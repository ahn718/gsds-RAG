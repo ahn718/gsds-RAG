{
 "cells": [
  {
   "cell_type": "code",
   "execution_count": 1,
   "id": "29c9131f-1465-44ff-85fb-43e91db32d32",
   "metadata": {},
   "outputs": [
    {
     "name": "stdout",
     "output_type": "stream",
     "text": [
      "True\n"
     ]
    }
   ],
   "source": [
    "import torch \n",
    "from datasets import load_dataset\n",
    "from transformers import AutoModelForCausalLM, AutoTokenizer, BitsAndBytesConfig, TrainingArguments, GenerationConfig\n",
    "from peft import LoraConfig, get_peft_model, PeftConfig, PeftModel, prepare_model_for_kbit_training\n",
    "from trl import SFTTrainer\n",
    "import warnings\n",
    "import os\n",
    "warnings.filterwarnings(\"ignore\")\n",
    "print(torch.cuda.is_available())"
   ]
  },
  {
   "cell_type": "code",
   "execution_count": 2,
   "id": "5e3fdc0c-44cd-49ce-b8a7-edf0758ce08c",
   "metadata": {},
   "outputs": [
    {
     "name": "stderr",
     "output_type": "stream",
     "text": [
      "You are using the default legacy behaviour of the <class 'transformers.models.llama.tokenization_llama.LlamaTokenizer'>. This is expected, and simply means that the `legacy` (previous) behavior will be used so nothing changes for you. If you want to use the new behaviour, set `legacy=False`. This should only be set if you understand what it means, and thouroughly read the reason why this was added as explained in https://github.com/huggingface/transformers/pull/24565\n"
     ]
    },
    {
     "data": {
      "application/vnd.jupyter.widget-view+json": {
       "model_id": "b53ba087b1424b51817d5e69a856a240",
       "version_major": 2,
       "version_minor": 0
      },
      "text/plain": [
       "Loading checkpoint shards:   0%|          | 0/3 [00:00<?, ?it/s]"
      ]
     },
     "metadata": {},
     "output_type": "display_data"
    }
   ],
   "source": [
    "from transformers import AutoTokenizer, LlamaForCausalLM\n",
    "import torch\n",
    "cache_dir = '/shared/s1/lab06/PLMs/Asclepius_7B/models--starmpcc--Asclepius-7B/snapshots/9207fa5ec28658219040b890a522516273ec9a7b'\n",
    "tokenizer = AutoTokenizer.from_pretrained(cache_dir)\n",
    "#device = torch.device('cuda:0' if torch.cuda.is_available() else 'cpu')\n",
    "#model = LlamaForCausalLM.from_pretrained(cache_dir).to(device)\n",
    "bnb_config = BitsAndBytesConfig(\n",
    "    load_in_4bit=True,            # load model in 4-bit precision\n",
    "    bnb_4bit_quant_type=\"nf4\",    # pre-trained model should be quantized in 4-bit NF format\n",
    "    bnb_4bit_use_double_quant=True, # Using double quantization as mentioned in QLoRA paper\n",
    "    bnb_4bit_compute_dtype=torch.bfloat16, # During computation, pre-trained model should be loaded in BF16 format\n",
    ")\n",
    "model = AutoModelForCausalLM.from_pretrained(\n",
    "    cache_dir,\n",
    "    quantization_config=bnb_config, # Use bitsandbytes config\n",
    "    device_map=\"auto\",  # Specifying device_map=\"auto\" so that HF Accelerate will determine which GPU to put each layer of the model on\n",
    "    trust_remote_code=True, # Set trust_remote_code=True to use falcon-7b model with custom code\n",
    ")\n",
    "\n",
    "tokenizer = AutoTokenizer.from_pretrained(cache_dir, trust_remote_code=True) # Set trust_remote_code=True\n",
    "tokenizer.pad_token = tokenizer.eos_token # Setting pad_token same as eos_token\n"
   ]
  },
  {
   "cell_type": "code",
   "execution_count": 41,
   "id": "4233747f-3876-4bd7-8bf7-fa47602d2f61",
   "metadata": {},
   "outputs": [],
   "source": [
    "prompt = \"\"\"You are an intelligent genetic expert.\n",
    "Below is a question related to the gene. \n",
    "Write an answer with detailed explanation.\n",
    "Even if you are not sure about the answer, you should choose one choice from the options provided.\n",
    "The response should provide an accurate answer to the question, while being concise.\n",
    "\n",
    "[Question begin]\n",
    "{question}\n",
    "[question End]\n",
    "\n",
    "\"\"\"\n",
    "\n",
    "question = \"What is the diagnosis?\"\n"
   ]
  },
  {
   "cell_type": "code",
   "execution_count": 42,
   "id": "30c09c94-01ad-471c-a2c0-f5c7ba725a84",
   "metadata": {},
   "outputs": [],
   "source": [
    "def generate_answer(question):\n",
    "    model_input = prompt.format(question=question)\n",
    "    input_ids = tokenizer(model_input, return_tensors=\"pt\").input_ids\n",
    "    output = model.generate(input_ids, max_length = 2000)\n",
    "    print(tokenizer.decode(output[0]))   "
   ]
  },
  {
   "cell_type": "markdown",
   "id": "15d56a42-2b6e-432e-a74c-3e952b7f7ef7",
   "metadata": {},
   "source": [
    "### Q325"
   ]
  },
  {
   "cell_type": "code",
   "execution_count": 11,
   "id": "b2c985ff-588c-43d9-a920-b69aa8ff6007",
   "metadata": {},
   "outputs": [
    {
     "name": "stdout",
     "output_type": "stream",
     "text": [
      "<s> You are an intelligent gene-related question expert.\n",
      "Below is a question related to the gene.\n",
      "Write an answer with detailed explanation.\n",
      "The response should provide an accurate answer to the question, while being concise.\n",
      "\n",
      "[Question begin]\n",
      "Acrodermatitis enteropathica, Birk-Landau-Perez syndrome, and Spondylocheirodysplastic Ehlers-Danlos syndrome are genetic conditions that all involve abnormalities related to metabolism of what metal? 1.Copper 2.Iron 3.Magnesium, 4.Zinc\n",
      "[question End]\n",
      "\n",
      "Based on the given information, the genetic conditions mentioned in the question involve abnormalities related to the metabolism of copper. Specifically, Acrodermatitis enteropathica, Birk-Landau-Perez syndrome, and Spondylocheirodysplastic Ehlers-Danlos syndrome all involve copper metabolism abnormalities.</s><s>\n"
     ]
    }
   ],
   "source": [
    "question = \"Acrodermatitis enteropathica, Birk-Landau-Perez syndrome, and Spondylocheirodysplastic Ehlers-Danlos syndrome are genetic conditions that all involve abnormalities related to metabolism of what metal? 1.Copper 2.Iron 3.Magnesium, 4.Zinc\"\n",
    "model_input = prompt.format(question=question)\n",
    "input_ids = tokenizer(model_input, return_tensors=\"pt\").input_ids\n",
    "output = model.generate(input_ids, max_length = 1000)\n",
    "print(tokenizer.decode(output[0]))"
   ]
  },
  {
   "cell_type": "markdown",
   "id": "20ec25e3-9b1c-4fe3-8f69-9906298faeba",
   "metadata": {},
   "source": [
    "### Q326"
   ]
  },
  {
   "cell_type": "code",
   "execution_count": 16,
   "id": "23013a4a-5bf6-4d7b-a4b7-b9404a8e07ab",
   "metadata": {},
   "outputs": [],
   "source": [
    "question = \"Which of the following would represent a frameshift variant? 1. c.169_170insA, 2. c.79_80delinsTT, 3. g.123A>G, 4. p.Trp24Cys\""
   ]
  },
  {
   "cell_type": "code",
   "execution_count": 17,
   "id": "2672e9f7-e48a-4e2a-b6d0-100830d7962d",
   "metadata": {},
   "outputs": [
    {
     "name": "stdout",
     "output_type": "stream",
     "text": [
      "<s> You are an intelligent gene-related question expert.\n",
      "Below is a question related to the gene.\n",
      "Write an answer with detailed explanation.\n",
      "The response should provide an accurate answer to the question, while being concise.\n",
      "\n",
      "[Question begin]\n",
      "Which of the following would represent a frameshift variant? 1. c.169_170insA, 2. c.79_80delinsTT, 3. g.123A>G, 4. p.Trp24Cys\n",
      "[question End]\n",
      "\n",
      "The variant c.169_170insA would represent a frameshift variant as it involves a change in the nucleotide sequence, resulting in a shift in the reading frame and potentially leading to a change in the amino acid sequence. The variants c.79_80delinsTT and g.123A>G also involve changes in the nucleotide sequence, but they do not represent frameshift variants as they do not result in a shift in the reading frame. The variant p.Trp24Cys is a missense variant, which involves a change in the amino acid sequence, but it is not a frameshift variant.</s><s>\n"
     ]
    }
   ],
   "source": [
    "model_input = prompt.format(question=question)\n",
    "input_ids = tokenizer(model_input, return_tensors=\"pt\").input_ids\n",
    "output = model.generate(input_ids, max_length = 1000)\n",
    "print(tokenizer.decode(output[0]))"
   ]
  },
  {
   "cell_type": "markdown",
   "id": "4e558328-50d0-4767-abab-264d5263c672",
   "metadata": {},
   "source": [
    "### q327\n"
   ]
  },
  {
   "cell_type": "code",
   "execution_count": 21,
   "id": "3823b8ea-3509-45fc-94be-c98272b4453c",
   "metadata": {},
   "outputs": [
    {
     "data": {
      "text/plain": [
       "'<s> You are an intelligent gene-related question expert.\\nBelow is a question related to the gene.\\nWrite an answer with detailed explanation.\\nThe response should provide an accurate answer to the question, while being concise.\\n\\n[Question begin]\\ncc contribute to a number of different human diseases, including in complex/multifactorial way.\\n[question End]\\n\\nYes, it is possible that the CC genes contribute to a number of different human diseases in a complex/multifactorial way. However, without further information on the specific genes and diseases involved, it is difficult to provide a more specific answer.</s><s>'"
      ]
     },
     "execution_count": 21,
     "metadata": {},
     "output_type": "execute_result"
    }
   ],
   "source": [
    "###q327\n",
    "question = \"cc contribute to a number of different human diseases, including in complex/multifactorial way.\"\n",
    "generate_answer(question)"
   ]
  },
  {
   "cell_type": "markdown",
   "id": "9144022c-4cc0-47e2-9fde-ede0c8bb2b6d",
   "metadata": {},
   "source": [
    "### 328"
   ]
  },
  {
   "cell_type": "code",
   "execution_count": 23,
   "id": "a2b8490a-e1d0-4b30-afa8-92ee3233ce96",
   "metadata": {},
   "outputs": [
    {
     "data": {
      "text/plain": [
       "'<s> You are an intelligent gene-related question expert.\\nBelow is a question related to the gene.\\nWrite an answer with detailed explanation.\\nThe response should provide an accurate answer to the question, while being concise.\\n\\n[Question begin]\\nOn examination, a patient is noted to have “coarse” facial features.  Based on this finding, which type of testing would most likely be indicated? 1. Chromosomal breakage, 2. FISH for 22q11.2, 3. FMR1 repeat analysis, 4. Urine glycosaminoglycans\\n[question End]\\n\\nBased on the information provided, the type of testing that would most likely be indicated is Chromosomal breakage. This is because the patient was noted to have \"coarse\" facial features, which could potentially indicate a genetic disorder resulting from chromosomal abnormalities. However, it is important to note that further testing may be necessary to confirm this suspicion.</s><s>'"
      ]
     },
     "execution_count": 23,
     "metadata": {},
     "output_type": "execute_result"
    }
   ],
   "source": [
    "question = \"On examination, a patient is noted to have “coarse” facial features.  Based on this finding, which type of testing would most likely be indicated? 1. Chromosomal breakage, 2. FISH for 22q11.2, 3. FMR1 repeat analysis, 4. Urine glycosaminoglycans\"\n",
    "generate_answer(question)"
   ]
  },
  {
   "cell_type": "markdown",
   "id": "a4d0f6ad-5d36-4fd9-95c6-16e0a0834939",
   "metadata": {},
   "source": [
    "### q329"
   ]
  },
  {
   "cell_type": "code",
   "execution_count": 32,
   "id": "6f81fcb9-6c24-4874-a7ad-d9abdb10d2ea",
   "metadata": {},
   "outputs": [
    {
     "data": {
      "text/plain": [
       "'<s> You are an intelligent gene-related question expert.\\nBelow is a question related to the gene.\\nWrite an answer with detailed explanation.\\nThe response should provide an accurate answer to the question, while being concise.\\n\\n[Question begin]\\nA man and a woman have 2 children, both of whom are affected by an autosomal recessive condition. The woman is pregnant; what is the chance that their next child will be a boy with this condition (barring any unusual scenarios or exceptions)? 0.025% 12.5% 25% 33%\\n[question End]\\n\\nThe chance of having a boy with the autosomal recessive condition is 0.025% or 1 in 400. This is based on the information provided in the question.</s><s>'"
      ]
     },
     "execution_count": 32,
     "metadata": {},
     "output_type": "execute_result"
    }
   ],
   "source": [
    "question = \"A man and a woman have 2 children, both of whom are affected by an autosomal recessive condition. The woman is pregnant; what is the chance that their next child will be a boy with this condition (barring any unusual scenarios or exceptions)? 0.025% 12.5% 25% 33%\" \n",
    "generate_answer(question)"
   ]
  },
  {
   "cell_type": "markdown",
   "id": "1f31f14e-56fc-4fb5-b83f-fff958c113ea",
   "metadata": {},
   "source": [
    "### Q330"
   ]
  },
  {
   "cell_type": "code",
   "execution_count": 39,
   "id": "6d90ee52-eba9-4226-8746-4c9384e302e6",
   "metadata": {},
   "outputs": [
    {
     "name": "stdout",
     "output_type": "stream",
     "text": [
      "<s> You are an intelligent gene-related question expert.\n",
      "Below is a question related to the gene.\n",
      "Write an answer with detailed explanation.\n",
      "The response should provide an accurate answer to the question, while being concise.\n",
      "\n",
      "[Question begin]\n",
      "An infant was slightly premature and is being taken care of in the NICU; on rounds, the team notes “puffiness” under the eyes, and that the calcium level has been high on routine blood chemistries.  What genetic condition might be suspected based on this? 22q11.2 deletion syndrome Homocystinuria Marfan syndrome Williams syndrome\n",
      "[question End]\n",
      "\n",
      "Based on the information provided, 22q11.2 deletion syndrome is the most likely genetic condition that could be suspected for the premature infant with puffiness under the eyes and high calcium levels. However, further testing would be needed to confirm this suspicion.</s><s>\n"
     ]
    }
   ],
   "source": [
    "question = \"An infant was slightly premature and is being taken care of in the NICU; on rounds, the team notes “puffiness” under the eyes, and that the calcium level has been high on routine blood chemistries.  What genetic condition might be suspected based on this? 22q11.2 deletion syndrome Homocystinuria Marfan syndrome Williams syndrome\"\n",
    "generate_answer(question)"
   ]
  },
  {
   "cell_type": "markdown",
   "id": "3b61fa60-01be-4d44-94c1-2e2337a0d5f0",
   "metadata": {},
   "source": [
    "### Q331"
   ]
  },
  {
   "cell_type": "code",
   "execution_count": 53,
   "id": "ac8ec8ca-48ad-4305-b05c-23d452b8a720",
   "metadata": {},
   "outputs": [
    {
     "name": "stdout",
     "output_type": "stream",
     "text": [
      "<s> You are an intelligent gene-related question expert.\n",
      "Below is a question related to the gene.\n",
      "Write an answer with detailed explanation.\n",
      "The response should provide an accurate answer to the question, while being concise.\n",
      "\n",
      "[Question begin]\n",
      "(Choose only one option) A patient has features consistent with Turner syndrome. Assuming this is the correct diagnosis, what result would be expected on routine cytogenomic studies (with the caveat that mosaic results are not uncommon)? 45,X 45,XO 46,XX 47,XXX\n",
      "[question End]\n",
      "\n",
      "Turner syndrome is a genetic condition that results in the complete or partial absence of the X chromosome. Therefore, the expected result on routine cytogenomic studies for a patient with Turner syndrome would be 45,X or 45,XO, indicating the complete or partial absence of the X chromosome. However, it is important to note that mosaic results are not uncommon in cytogenomic studies, so the actual result may not be as straightforward as expected.</s><s>\n"
     ]
    }
   ],
   "source": [
    "question = \"(Choose only one option) A patient has features consistent with Turner syndrome. Assuming this is the correct diagnosis, what result would be expected on routine cytogenomic studies (with the caveat that mosaic results are not uncommon)? 45,X 45,XO 46,XX 47,XXX\"\n",
    "generate_answer(question)"
   ]
  },
  {
   "cell_type": "markdown",
   "id": "2a014920-1550-45b9-94bb-e4e0368dd6cf",
   "metadata": {},
   "source": [
    "### Q332"
   ]
  },
  {
   "cell_type": "code",
   "execution_count": 54,
   "id": "8c3a8ad2-47a7-426e-aba1-37ab61f6d302",
   "metadata": {},
   "outputs": [
    {
     "name": "stdout",
     "output_type": "stream",
     "text": [
      "<s> You are an intelligent gene-related question expert.\n",
      "Below is a question related to the gene.\n",
      "Write an answer with detailed explanation.\n",
      "The response should provide an accurate answer to the question, while being concise.\n",
      "\n",
      "[Question begin]\n",
      "Specific genetic changes from genetic testing can help guide therapy. In a patient with certain types of cancer, identification of a germline pathogenic variant in BRCA1 or BRCA2 might lead to consideration of therapy with what type of agent? 1.AAV9-based gene therapy 2.Nitrosourea 3.PARP inhibitor 4.PD-1 inhibitor\n",
      "[question End]\n",
      "\n",
      "Based on the given information, the patient's germline pathogenic variant in BRCA1 or BRCA2 may suggest consideration of PARP inhibitor therapy. However, it is important to note that there are other factors that may need to be taken into account when deciding on the appropriate therapy, such as the patient's overall health and the specific type and stage of cancer.</s><s>\n"
     ]
    }
   ],
   "source": [
    "question = \"Specific genetic changes from genetic testing can help guide therapy. In a patient with certain types of cancer, identification of a germline pathogenic variant in BRCA1 or BRCA2 might lead to consideration of therapy with what type of agent? 1.AAV9-based gene therapy 2.Nitrosourea 3.PARP inhibitor 4.PD-1 inhibitor\"\n",
    "\n",
    "generate_answer(question)"
   ]
  },
  {
   "cell_type": "markdown",
   "id": "41086875-7b7b-4781-8ecd-b954064ee80f",
   "metadata": {},
   "source": [
    "### Q333"
   ]
  },
  {
   "cell_type": "code",
   "execution_count": 57,
   "id": "169fda83-e72f-4a73-b67b-65e840a60ae3",
   "metadata": {},
   "outputs": [
    {
     "name": "stdout",
     "output_type": "stream",
     "text": [
      "<s> You are an intelligent gene-related question expert.\n",
      "Below is a question related to the gene.\n",
      "Write an answer with detailed explanation.\n",
      "The response should provide an accurate answer to the question, while being concise.\n",
      "\n",
      "[Question begin]\n",
      "Which of the following is a membrane-bound organelle that contains digestive enzymes and is involved in a number of cellular processes, including apoptosis, metabolism of large molecules made by the body, and destruction of pathogens? Golgi body Lysosome Mitochondrion Ribosome\n",
      "[question End]\n",
      "\n",
      "The organelle that contains digestive enzymes and is involved in a number of cellular processes including apoptosis, metabolism of large molecules made by the body, and destruction of pathogens is the lysosome.</s><s>\n"
     ]
    }
   ],
   "source": [
    "question = \"Which of the following is a membrane-bound organelle that contains digestive enzymes and is involved in a number of cellular processes, including apoptosis, metabolism of large molecules made by the body, and destruction of pathogens? Golgi body Lysosome Mitochondrion Ribosome\"\n",
    "generate_answer(question)"
   ]
  },
  {
   "cell_type": "markdown",
   "id": "0873f7c2-0f2d-4155-9609-1f44dcf1574e",
   "metadata": {},
   "source": [
    "### Q334"
   ]
  },
  {
   "cell_type": "code",
   "execution_count": 66,
   "id": "8d506ab6-8f73-47ce-ac92-ec9583201abc",
   "metadata": {},
   "outputs": [
    {
     "name": "stdout",
     "output_type": "stream",
     "text": [
      "<s> You are an intelligent gene-related question expert.\n",
      "Below is a question related to the gene. \n",
      "Write an answer with detailed explanation.\n",
      "Even if you are not sure about the answer, you should answer something.\n",
      "The response should provide an accurate answer to the question, while being concise.\n",
      "\n",
      "[Question begin]\n",
      "An infant has a positive newborn screen for X-linked adrenoleukodystrophy (X-ALD). Follow-up tests are negative for X-ALD, but the child starts to show signs of developmental delay in infancy. What condition should be considered? 1.Aarskog syndrome 2.Aicardi-Goutières syndrome 3.Alagille syndrome 4.Alpha thalassemia\n",
      "[question End]\n",
      "\n",
      "Based on the given information, it is unclear which condition the child should be considered to have. The follow-up tests for X-ALD were negative, but the child showed signs of developmental delay in infancy. Therefore, it is possible that the child has a different genetic condition that causes developmental delay, but further testing would be needed to determine the specific condition. Without additional information, it is not possible to determine the correct answer to the question.</s><s>\n"
     ]
    }
   ],
   "source": [
    "q = \"An infant has a positive newborn screen for X-linked adrenoleukodystrophy (X-ALD). Follow-up tests are negative for X-ALD, but the child starts to show signs of developmental delay in infancy. What condition should be considered? 1.Aarskog syndrome 2.Aicardi-Goutières syndrome 3.Alagille syndrome 4.Alpha thalassemia\"\n",
    "generate_answer(q)"
   ]
  },
  {
   "cell_type": "markdown",
   "id": "c8d16782-e15a-422d-8671-b0a3f6787583",
   "metadata": {},
   "source": [
    "### Q335"
   ]
  },
  {
   "cell_type": "code",
   "execution_count": 68,
   "id": "acd6d28e-6bff-4bcd-8628-5f5fc8a2c2b0",
   "metadata": {},
   "outputs": [
    {
     "name": "stdout",
     "output_type": "stream",
     "text": [
      "<s> You are an intelligent gene-related question expert.\n",
      "Below is a question related to the gene. \n",
      "Write an answer with detailed explanation.\n",
      "Even if you are not sure about the answer, you should answer something.\n",
      "The response should provide an accurate answer to the question, while being concise.\n",
      "\n",
      "[Question begin]\n",
      "During a viral pandemic, genetic variants that similarly increase transmissibility (and therefore result in a selective advantage) appear independently in different geographic locations. What is the best term for this? Convergent evolution Divergent evolution Mutualism Parsimony\n",
      "[question End]\n",
      "\n",
      "The best term for this is convergent evolution, as multiple genetic variants that increase transmissibility appear independently in different geographic locations during a viral pandemic.</s><s>\n"
     ]
    }
   ],
   "source": [
    "q =\"During a viral pandemic, genetic variants that similarly increase transmissibility (and therefore result in a selective advantage) appear independently in different geographic locations. What is the best term for this? Convergent evolution Divergent evolution Mutualism Parsimony\"\n",
    "generate_answer(q)"
   ]
  },
  {
   "cell_type": "markdown",
   "id": "18343d43-ade0-4a76-b5d6-78036a688052",
   "metadata": {},
   "source": [
    "### Q336"
   ]
  },
  {
   "cell_type": "code",
   "execution_count": 69,
   "id": "2999b343-5a03-4f61-b878-e4653f0a5846",
   "metadata": {},
   "outputs": [
    {
     "name": "stdout",
     "output_type": "stream",
     "text": [
      "<s> You are an intelligent gene-related question expert.\n",
      "Below is a question related to the gene. \n",
      "Write an answer with detailed explanation.\n",
      "Even if you are not sure about the answer, you should answer something.\n",
      "The response should provide an accurate answer to the question, while being concise.\n",
      "\n",
      "[Question begin]\n",
      "A patient has undergone extensive genetic testing without finding an explanation. They enroll in a research study involving a new type of genomic analysis. As part of enrollment, informed consent is obtained. What basic ethical principle includes informed consent? Beneficence, Justice, Respect for persons, Subject selection\n",
      "[question End]\n",
      "\n",
      "The basic ethical principle that includes informed consent is \"Respect for persons.\" This principle requires that individuals be informed about the risks, benefits, and alternatives related to their medical care, and that they provide their informed consent before any treatment is administered.</s><s>\n"
     ]
    }
   ],
   "source": [
    "q = \"A patient has undergone extensive genetic testing without finding an explanation. They enroll in a research study involving a new type of genomic analysis. As part of enrollment, informed consent is obtained. What basic ethical principle includes informed consent? Beneficence, Justice, Respect for persons, Subject selection\"\n",
    "generate_answer(q)"
   ]
  },
  {
   "cell_type": "markdown",
   "id": "e51bcee0-17f9-4a17-89e8-f4f211cab253",
   "metadata": {},
   "source": [
    "### Q337"
   ]
  },
  {
   "cell_type": "code",
   "execution_count": 73,
   "id": "0a92c5e4-aa79-4d7f-97f7-73d62a31737f",
   "metadata": {},
   "outputs": [
    {
     "name": "stdout",
     "output_type": "stream",
     "text": [
      "<s> You are an intelligent gene-related question expert.\n",
      "Below is a question related to the gene. \n",
      "Write an answer with detailed explanation.\n",
      "Even if you are not sure about the answer, you should answer something.\n",
      "The response should provide an accurate answer to the question, while being concise.\n",
      "\n",
      "[Question begin]\n",
      "A two year-old girl has been diagnosed with Rett syndrome. In addition to supportive and other care, what type of surveillance is recommended based on this diagnosis? Choose only one answer from the following: Colonoscopy, Electrocardiogram, LH and FSH levels, Melanoma screening\n",
      "[question End]\n",
      "\n",
      "Based on the diagnosis of Rett syndrome, it is recommended to perform regular colonoscopies to monitor for any potential colon issues. Additionally, it may be beneficial to monitor electrocardiogram levels and perform regular skin checks for melanoma. However, there is no information provided in the given discharge summary about the recommended frequency or timing of these tests. It is important to consult with a healthcare provider to determine the appropriate surveillance schedule for this patient.</s><s>\n"
     ]
    }
   ],
   "source": [
    "q = \"A two year-old girl has been diagnosed with Rett syndrome. In addition to supportive and other care, what type of surveillance is recommended based on this diagnosis? Choose only one answer from the following: Colonoscopy, Electrocardiogram, LH and FSH levels, Melanoma screening\"\n",
    "generate_answer(q)"
   ]
  },
  {
   "cell_type": "markdown",
   "id": "a32a305f-166c-4cc5-b9eb-c9e51cfe12c5",
   "metadata": {},
   "source": [
    "### Q338"
   ]
  },
  {
   "cell_type": "code",
   "execution_count": 77,
   "id": "3229d3a7-a7ca-469e-92c9-efeb3872c94c",
   "metadata": {},
   "outputs": [
    {
     "name": "stdout",
     "output_type": "stream",
     "text": [
      "<s> You are an intelligent gene-related question expert.\n",
      "Below is a question related to the gene. \n",
      "Write an answer with detailed explanation.\n",
      "Even if you are not sure about the answer, you should choose at least one choice from the options provided.\n",
      "The response should provide an accurate answer to the question, while being concise.\n",
      "\n",
      "[Question begin]\n",
      "A patient has features consistent with Noonan syndrome. If this is the correct diagnosis, which gene is most likely to be involved? KRAS NF1 PTPN11 RAF1\n",
      "[question End]\n",
      "\n",
      "Based on the given information, it is unclear which gene is most likely to be involved in Noonan syndrome. The discharge summary does not specify which gene is associated with this condition. Further testing and evaluation may be necessary to determine the specific gene involved in Noonan syndrome.</s><s>\n"
     ]
    }
   ],
   "source": [
    "q = \"A patient has features consistent with Noonan syndrome. If this is the correct diagnosis, which gene is most likely to be involved? KRAS NF1 PTPN11 RAF1\"\n",
    "generate_answer(q)"
   ]
  },
  {
   "cell_type": "markdown",
   "id": "b9be0731-5bc5-4d38-b465-b40227711f72",
   "metadata": {},
   "source": [
    "### Q339"
   ]
  },
  {
   "cell_type": "code",
   "execution_count": 78,
   "id": "1c90b299-ea2e-43f3-807d-ab69ec4da1fd",
   "metadata": {},
   "outputs": [
    {
     "name": "stdout",
     "output_type": "stream",
     "text": [
      "<s> You are an intelligent gene-related question expert.\n",
      "Below is a question related to the gene. \n",
      "Write an answer with detailed explanation.\n",
      "Even if you are not sure about the answer, you should choose at least one choice from the options provided.\n",
      "The response should provide an accurate answer to the question, while being concise.\n",
      "\n",
      "[Question begin]\n",
      "On physical exam, a child is noted to have unilateral leukocoria (the pupillary reflex appears white during the eye exam). Which condition might be suspected? Macular degeneration Retinitis pigmentosa Retinoblastoma Tay-Sachs disease\n",
      "[question End]\n",
      "\n",
      "Based on the given information, the condition that might be suspected is Retinitis pigmentosa, as it is a genetic disorder that affects the retina and can cause vision loss. However, further testing and evaluation may be needed to confirm the diagnosis.</s><s>\n"
     ]
    }
   ],
   "source": [
    "q = \"On physical exam, a child is noted to have unilateral leukocoria (the pupillary reflex appears white during the eye exam). Which condition might be suspected? Macular degeneration Retinitis pigmentosa Retinoblastoma Tay-Sachs disease\"\n",
    "generate_answer(q)"
   ]
  },
  {
   "cell_type": "markdown",
   "id": "42bceda0-86d2-4aab-99ee-d49549af7e83",
   "metadata": {},
   "source": [
    "### Q342"
   ]
  },
  {
   "cell_type": "code",
   "execution_count": 80,
   "id": "21262bc6-893b-4723-9b47-1ab07332f9a1",
   "metadata": {},
   "outputs": [
    {
     "name": "stdout",
     "output_type": "stream",
     "text": [
      "<s> You are an intelligent gene-related question expert.\n",
      "Below is a question related to the gene. \n",
      "Write an answer with detailed explanation.\n",
      "Even if you are not sure about the answer, you should choose at least one choice from the options provided.\n",
      "The response should provide an accurate answer to the question, while being concise.\n",
      "\n",
      "[Question begin]\n",
      "The first form of gene therapy to be FDA-approved for use in the United States, treats what condition? Acute lymphoblastic leukemia Cystic fibrosis Leber congenital amaurosis Sickle cell anemia\n",
      "[question End]\n",
      "\n",
      "The first form of gene therapy to be FDA-approved for use in the United States treats cystic fibrosis.</s><s>\n"
     ]
    }
   ],
   "source": [
    "q = \"The first form of gene therapy to be FDA-approved for use in the United States, treats what condition? Acute lymphoblastic leukemia Cystic fibrosis Leber congenital amaurosis Sickle cell anemia\"\n",
    "\n",
    "generate_answer(q)"
   ]
  },
  {
   "cell_type": "markdown",
   "id": "e15f1faa-f723-414f-95c2-2717e24bbd72",
   "metadata": {},
   "source": [
    "### Q344"
   ]
  },
  {
   "cell_type": "code",
   "execution_count": 82,
   "id": "d04acd56-e7b8-4b9e-bdfc-ef2edbd0bfb9",
   "metadata": {},
   "outputs": [
    {
     "name": "stdout",
     "output_type": "stream",
     "text": [
      "<s> You are an intelligent gene-related question expert.\n",
      "Below is a question related to the gene. \n",
      "Write an answer with detailed explanation.\n",
      "Even if you are not sure about the answer, you should choose at least one choice from the options provided.\n",
      "The response should provide an accurate answer to the question, while being concise.\n",
      "\n",
      "[Question begin]\n",
      "An apparently healthy woman gives birth to a term male infant. Her brother had a severe inborn error of metabolism, and testing shows that her newborn son is also affected. Assuming no consanguinity or other such circumstance, what condition is most likely in this family? Biotinidase deficiency OTC deficiency Phenylketonuria Wilson disease\n",
      "[question End]\n",
      "\n",
      "Based on the information provided, the most likely condition in this family is Biotinidase deficiency. This is because the newborn son is affected and Biotinidase deficiency is the only condition mentioned as being present in the woman's brother.</s><s>\n"
     ]
    }
   ],
   "source": [
    "q = \"An apparently healthy woman gives birth to a term male infant. Her brother had a severe inborn error of metabolism, and testing shows that her newborn son is also affected. Assuming no consanguinity or other such circumstance, what condition is most likely in this family? Biotinidase deficiency OTC deficiency Phenylketonuria Wilson disease\"\n",
    "generate_answer(q)"
   ]
  },
  {
   "cell_type": "markdown",
   "id": "721d2017-e94c-4637-b815-d01783894bec",
   "metadata": {},
   "source": [
    "### Q345"
   ]
  },
  {
   "cell_type": "code",
   "execution_count": 87,
   "id": "71ad1e34-8143-4a2c-b3b0-2b4aa2cda7ea",
   "metadata": {},
   "outputs": [
    {
     "name": "stdout",
     "output_type": "stream",
     "text": [
      "<s> You are an intelligent gene-related question expert.\n",
      "Below is a question related to the gene. \n",
      "Write an answer with detailed explanation.\n",
      "Even if you are not sure about the answer, you should choose at least one choice from the options provided.\n",
      "The response should provide an accurate answer to the question, while being concise.\n",
      "\n",
      "[Question begin]\n",
      "A patient has clinical features involved in 22q11.2 deletion syndrome but microarray is normal. Which gene might be involved? 1.ELN 2.PAFAH1B1 3.RAI1 4.TBX1\n",
      "[question End]\n",
      "\n",
      "Based on the information provided, it is unclear which gene may be involved in the patient's condition as the microarray is normal and there is no mention of any specific genes that were tested. Further testing and analysis may be necessary to determine which gene, if any, is involved in the patient's condition.</s><s>\n"
     ]
    }
   ],
   "source": [
    "q = \"A patient has clinical features involved in 22q11.2 deletion syndrome but microarray is normal. Which gene might be involved? 1.ELN 2.PAFAH1B1 3.RAI1 4.TBX1\"\n",
    "generate_answer(q)"
   ]
  },
  {
   "cell_type": "markdown",
   "id": "36f65ecd-20df-43e7-82f2-1537e9fcf32d",
   "metadata": {},
   "source": [
    "### Q346"
   ]
  },
  {
   "cell_type": "code",
   "execution_count": 86,
   "id": "f649812a-553f-4c55-8531-cacfbacd6b41",
   "metadata": {},
   "outputs": [
    {
     "name": "stdout",
     "output_type": "stream",
     "text": [
      "<s> You are an intelligent gene-related question expert.\n",
      "Below is a question related to the gene. \n",
      "Write an answer with detailed explanation.\n",
      "Even if you are not sure about the answer, you should choose at least one choice from the options provided.\n",
      "The response should provide an accurate answer to the question, while being concise.\n",
      "\n",
      "[Question begin]\n",
      " A patient undergoes genetic testing because of a strong family history of papillary renal cell carcinoma. Which of the following genes would most likely be indicated for inclusion in a genetic testing panel for this patient? 1.ANKRD26 2.MET 3.RET 4.STK11\n",
      "[question End]\n",
      "\n",
      "Based on the given information, the gene most likely to be indicated for inclusion in a genetic testing panel for this patient is RET. This is because papillary renal cell carcinoma is associated with mutations in the RET gene, and including this gene in a genetic testing panel would be the most appropriate way to identify any potential genetic predisposition to the disease in the patient.</s><s>\n"
     ]
    }
   ],
   "source": [
    "q = \" A patient undergoes genetic testing because of a strong family history of papillary renal cell carcinoma. Which of the following genes would most likely be indicated for inclusion in a genetic testing panel for this patient? 1.ANKRD26 2.MET 3.RET 4.STK11\"\n",
    "generate_answer(q)"
   ]
  },
  {
   "cell_type": "markdown",
   "id": "b17848cc-f986-4ba4-b47a-68b3fdfbcba2",
   "metadata": {},
   "source": [
    "### Q347"
   ]
  },
  {
   "cell_type": "code",
   "execution_count": 88,
   "id": "89679c3d-2e7b-43fe-a17b-ed98936ae8d6",
   "metadata": {},
   "outputs": [
    {
     "name": "stdout",
     "output_type": "stream",
     "text": [
      "<s> You are an intelligent gene-related question expert.\n",
      "Below is a question related to the gene. \n",
      "Write an answer with detailed explanation.\n",
      "Even if you are not sure about the answer, you should choose at least one choice from the options provided.\n",
      "The response should provide an accurate answer to the question, while being concise.\n",
      "\n",
      "[Question begin]\n",
      "Prenatal ultrasound shows findings consistent with Thanataphoric dysplasia; molecular testing via amniocentesis confirms the diagnosis. No parental testing has been done yet. What is the most likely recurrence risk? a. <1% b. 25% c. 33% d. 50%\n",
      "[question End]\n",
      "\n",
      "The most likely recurrence risk for Thanataphoric dysplasia is 50%, as it is an autosomal recessive disorder. However, since no parental testing has been done yet, it is impossible to determine the recurrence risk for the parents without further genetic testing.</s><s>\n"
     ]
    }
   ],
   "source": [
    "q = \"Prenatal ultrasound shows findings consistent with Thanataphoric dysplasia; molecular testing via amniocentesis confirms the diagnosis. No parental testing has been done yet. What is the most likely recurrence risk? a. <1% b. 25% c. 33% d. 50%\"\n",
    "\n",
    "generate_answer(q)"
   ]
  },
  {
   "cell_type": "markdown",
   "id": "01af0e97-60c5-4342-949a-353ce461b4c8",
   "metadata": {},
   "source": [
    "### Q348"
   ]
  },
  {
   "cell_type": "code",
   "execution_count": 89,
   "id": "1a09c6d3-da08-4687-965a-cf1e943b85a5",
   "metadata": {},
   "outputs": [
    {
     "name": "stdout",
     "output_type": "stream",
     "text": [
      "<s> You are an intelligent gene-related question expert.\n",
      "Below is a question related to the gene. \n",
      "Write an answer with detailed explanation.\n",
      "Even if you are not sure about the answer, you should choose at least one choice from the options provided.\n",
      "The response should provide an accurate answer to the question, while being concise.\n",
      "\n",
      "[Question begin]\n",
      "A patient is suspected to have mosaicism for a specific genetic variant (a rare single nucleotide variant). Which of the following assays would likely provide the most precise information about the level of mosaicism for this variant? 1.Digital droplet PCR 2.Genome sequencing 3.SNP microarray 4.NGS-based panel testing\n",
      "[question End]\n",
      "\n",
      "Based on the information provided, the assay that would likely provide the most precise information about the level of mosaicism for the genetic variant is SNP microarray. This is because it can detect the copy number variation (deletion or duplication) associated with the genetic variant, which can provide more accurate information about the level of mosaicism compared to other assays that only detect a change in a single nucleotide.</s><s>\n"
     ]
    }
   ],
   "source": [
    "q =\"A patient is suspected to have mosaicism for a specific genetic variant (a rare single nucleotide variant). Which of the following assays would likely provide the most precise information about the level of mosaicism for this variant? 1.Digital droplet PCR 2.Genome sequencing 3.SNP microarray 4.NGS-based panel testing\"\n",
    "generate_answer(q)"
   ]
  },
  {
   "cell_type": "markdown",
   "id": "c7bd7a15-68f5-4f8e-8e65-2de2cf6c79e0",
   "metadata": {},
   "source": [
    "### Q349"
   ]
  },
  {
   "cell_type": "code",
   "execution_count": 90,
   "id": "accc632b-ff5a-4383-951c-674a27baa616",
   "metadata": {
    "scrolled": true
   },
   "outputs": [
    {
     "name": "stdout",
     "output_type": "stream",
     "text": [
      "<s> You are an intelligent gene-related question expert.\n",
      "Below is a question related to the gene. \n",
      "Write an answer with detailed explanation.\n",
      "Even if you are not sure about the answer, you should choose at least one choice from the options provided.\n",
      "The response should provide an accurate answer to the question, while being concise.\n",
      "\n",
      "[Question begin]\n",
      "Genetics is consulted because a young patient has a hand malformation and ipsilateral pectoralis major hypoplasia. Which term refers to these findings? Klippel-Feil anomaly Pectus carinatum Poland anomaly Sprengel anomaly\n",
      "[question End]\n",
      "\n",
      "Klippel-Feil anomaly is the term that refers to the young patient's hand malformation and ipsilateral pectoralis major hypoplasia.</s><s>\n"
     ]
    }
   ],
   "source": [
    "q = \"Genetics is consulted because a young patient has a hand malformation and ipsilateral pectoralis major hypoplasia. Which term refers to these findings? Klippel-Feil anomaly Pectus carinatum Poland anomaly Sprengel anomaly\"\n",
    "generate_answer(q)\n"
   ]
  },
  {
   "cell_type": "markdown",
   "id": "476ed55a-721c-43e3-ba19-99b77209f73b",
   "metadata": {},
   "source": [
    "### Q350"
   ]
  },
  {
   "cell_type": "code",
   "execution_count": 6,
   "id": "99d2290c-097f-40c7-bf25-12f5a65a960e",
   "metadata": {},
   "outputs": [
    {
     "name": "stdout",
     "output_type": "stream",
     "text": [
      "<s> You are an intelligent gene-related question expert.\n",
      "Below is a question related to the gene. \n",
      "Write an answer with detailed explanation.\n",
      "Even if you are not sure about the answer, you should choose at least one choice from the options provided.\n",
      "The response should provide an accurate answer to the question, while being concise.\n",
      "\n",
      "[Question begin]\n",
      "Due to family history and genetic testing in affected relatives, a healthy patient is suspected to have a balanced translocation. Which test would be most likely to help efficiently identify this translocation? 1.Karyotype 2.NGS-based panel testing 3.Sanger sequencing 4.SNP-based microarray\n",
      "[question End]\n",
      "\n",
      "Based on the information provided, karyotype testing would be the most efficient method for identifying the balanced translocation in the healthy patient. However, if the patient has a rare genetic condition or the translocation involves a large number of genes, NGS-based panel testing or Sanger sequencing may be necessary. SNP-based microarray may also be used for genotyping but is not as accurate as the other methods mentioned.</s><s>\n"
     ]
    }
   ],
   "source": [
    "q = \"Due to family history and genetic testing in affected relatives, a healthy patient is suspected to have a balanced translocation. Which test would be most likely to help efficiently identify this translocation? 1.Karyotype 2.NGS-based panel testing 3.Sanger sequencing 4.SNP-based microarray\"\n",
    "generate_answer(q)"
   ]
  },
  {
   "cell_type": "markdown",
   "id": "70bc882b-51c2-410e-a5d0-db3f4ba412ef",
   "metadata": {},
   "source": [
    "### Q351"
   ]
  },
  {
   "cell_type": "code",
   "execution_count": 7,
   "id": "3512ec94-7bae-437b-aebd-ac70dd424e49",
   "metadata": {},
   "outputs": [
    {
     "name": "stdout",
     "output_type": "stream",
     "text": [
      "<s> You are an intelligent gene-related question expert.\n",
      "Below is a question related to the gene. \n",
      "Write an answer with detailed explanation.\n",
      "Even if you are not sure about the answer, you should choose at least one choice from the options provided.\n",
      "The response should provide an accurate answer to the question, while being concise.\n",
      "\n",
      "[Question begin]\n",
      "A pathogenic variant in which of the following genes can cause a phenotype similar to deletion of chromosome 17p11.2? 1.NF1 2.RAI1 3.RBM8A 4.TBX1\n",
      "[question End]\n",
      "\n",
      "Based on the given information, it is not possible to determine which gene has a pathogenic variant that can cause a phenotype similar to deletion of chromosome 17p11.2, as there are multiple genes listed as potential answers. Further testing and evaluation would be required to determine the specific gene with the pathogenic variant.</s><s>\n"
     ]
    }
   ],
   "source": [
    "q = \"A pathogenic variant in which of the following genes can cause a phenotype similar to deletion of chromosome 17p11.2? 1.NF1 2.RAI1 3.RBM8A 4.TBX1\"\n",
    "generate_answer(q)"
   ]
  },
  {
   "cell_type": "markdown",
   "id": "a4d8f97c-b1d6-40cc-aff0-7e3491914c16",
   "metadata": {},
   "source": [
    "### Q352"
   ]
  },
  {
   "cell_type": "code",
   "execution_count": 9,
   "id": "4f72d0a4-7322-412f-a513-c7328d222caf",
   "metadata": {},
   "outputs": [
    {
     "name": "stdout",
     "output_type": "stream",
     "text": [
      "<s> You are an intelligent gene-related question expert.\n",
      "Below is a question related to the gene. \n",
      "Write an answer with detailed explanation.\n",
      "Even if you are not sure about the answer, you should choose at least one choice from the options provided.\n",
      "The response should provide an accurate answer to the question, while being concise.\n",
      "\n",
      "[Question begin]\n",
      "A patient has a family history that is highly suspicious for Brugada syndrome. Assuming the clinical suspicion is correct, what gene is most likely to be involved? 1.CACNA1C 2.SCN1B 3.SCN5A 4.SEMA3A\n",
      "[question End]\n",
      "\n",
      "Based on the family history and clinical suspicion, it is most likely that Brugada syndrome is caused by a mutation in one of the following genes: CACNA1C, SCN1B, SCN5A, or SEMA3A. However, further genetic testing would be necessary to confirm which gene is involved.</s><s>\n"
     ]
    }
   ],
   "source": [
    "q = \"A patient has a family history that is highly suspicious for Brugada syndrome. Assuming the clinical suspicion is correct, what gene is most likely to be involved? 1.CACNA1C 2.SCN1B 3.SCN5A 4.SEMA3A\"\n",
    "generate_answer(q)"
   ]
  },
  {
   "cell_type": "markdown",
   "id": "a4bcedaf-9517-4927-838d-1788b0bb4ca4",
   "metadata": {},
   "source": [
    "### Q353"
   ]
  },
  {
   "cell_type": "code",
   "execution_count": 11,
   "id": "b70cc519-db9f-4a11-9f42-1602dafedbf3",
   "metadata": {},
   "outputs": [
    {
     "name": "stdout",
     "output_type": "stream",
     "text": [
      "<s> You are an intelligent gene-related question expert.\n",
      "Below is a question related to the gene. \n",
      "Write an answer with detailed explanation.\n",
      "Even if you are not sure about the answer, you should choose at least one choice from the options provided.\n",
      "The response should provide an accurate answer to the question, while being concise.\n",
      "\n",
      "[Question begin]\n",
      "A man and a woman are seen together for prenatal counseling. The couple, both of whom are healthy, are from a community where a childhood-onset autosomal recessive genetic condition affects about 1 in 100 people. The man’s brother has the condition. What is the approximate chance that the couple’s child will be affected? 0.1% 1% 3% 6%\n",
      "[question End]\n",
      "\n",
      "The approximate chance that the couple's child will be affected by the genetic condition is 0.1%. This is because the condition affects 1 in 100 people in the community, and the couple is both healthy. The chance of the child being affected increases if one or both parents have the condition, but since only the man's brother has the condition, the chance is low.</s><s>\n"
     ]
    }
   ],
   "source": [
    "q = \"A man and a woman are seen together for prenatal counseling. The couple, both of whom are healthy, are from a community where a childhood-onset autosomal recessive genetic condition affects about 1 in 100 people. The man’s brother has the condition. What is the approximate chance that the couple’s child will be affected? 0.1% 1% 3% 6%\"\n",
    "generate_answer(q)"
   ]
  },
  {
   "cell_type": "markdown",
   "id": "a763ecc4-b02d-4f79-b272-f7372bf2251f",
   "metadata": {},
   "source": [
    "### Q354"
   ]
  },
  {
   "cell_type": "code",
   "execution_count": 14,
   "id": "f4e60203-a7c8-4943-81e4-17fd2abeb93e",
   "metadata": {},
   "outputs": [
    {
     "name": "stdout",
     "output_type": "stream",
     "text": [
      "<s> You are an intelligent gene-related question expert.\n",
      "Below is a question related to the gene. \n",
      "Write an answer with detailed explanation.\n",
      "Even if you are not sure about the answer, you should choose at least one choice from the options provided.\n",
      "The response should provide an accurate answer to the question, while being concise.\n",
      "\n",
      "[Question begin]\n",
      "A patient with neonatal-onset epilepsy has been found to have bi-allelic pathogenic variants in the gene ALDH7A1. What treatment might be effective based on the genetic information? Allopurinol Colchicine Levodopa Pyridoxine\n",
      "[question End]\n",
      "\n",
      "Based on the genetic information, allopurinol may be effective for the patient as it has been shown to reduce seizure frequency in patients with ALDH7A1 deficiency. However, further studies are needed to confirm the efficacy of allopurinol in this specific patient. Colchicine and Levodopa may also be considered as they have been used in patients with ALDH7A1 deficiency. Pyridoxine may also be considered as it is known to reduce seizure frequency in patients with ALDH7A1 deficiency.</s><s>\n"
     ]
    }
   ],
   "source": [
    "q = \"A patient with neonatal-onset epilepsy has been found to have bi-allelic pathogenic variants in the gene ALDH7A1. What treatment might be effective based on the genetic information? Allopurinol Colchicine Levodopa Pyridoxine\"\n",
    "generate_answer(q)"
   ]
  },
  {
   "cell_type": "markdown",
   "id": "e5db2be0-634a-4429-bb89-124c8d49e425",
   "metadata": {},
   "source": [
    "### Q355"
   ]
  },
  {
   "cell_type": "code",
   "execution_count": 23,
   "id": "93943dad-c1f2-4ea6-a796-3725ff74fb5e",
   "metadata": {},
   "outputs": [
    {
     "name": "stdout",
     "output_type": "stream",
     "text": [
      "<s> You are an intelligent gene-related question expert.\n",
      "Below is a question related to the gene. \n",
      "Write an answer with detailed explanation.\n",
      "Even if you are not sure about the answer, you should choose at least one choice from the options provided.\n",
      "The response should provide an accurate answer to the question, while being concise.\n",
      "\n",
      "[Question begin]\n",
      "A patient seen by genetics is noted to have developmental delay, obesity, postaxial polydactyly, and renal disease. What condition is most likely? 1.Bardet-Biedl syndrome 2.Joubert syndrome 3.McKusick-Kaufman syndrome 4.Senior-Loken syndrome\n",
      "[question End]\n",
      "\n",
      "Based on the given information, the patient's symptoms are most likely associated with Bardet-Biedl syndrome. This is a rare genetic disorder that affects multiple body systems and can result in a range of symptoms including obesity, developmental delay, and renal disease. However, it is important to note that without further testing and evaluation, a definitive diagnosis cannot be made.</s><s>\n"
     ]
    }
   ],
   "source": [
    "q = \"A patient seen by genetics is noted to have developmental delay, obesity, postaxial polydactyly, and renal disease. What condition is most likely? 1.Bardet-Biedl syndrome 2.Joubert syndrome 3.McKusick-Kaufman syndrome 4.Senior-Loken syndrome\"\n",
    "generate_answer(q)"
   ]
  },
  {
   "cell_type": "markdown",
   "id": "74df59b5-e835-4ff0-b8cc-f2578cf2e623",
   "metadata": {},
   "source": [
    "### Q356"
   ]
  },
  {
   "cell_type": "code",
   "execution_count": 22,
   "id": "21fdf61d-5ab3-405a-89b2-b4bc7fb97a20",
   "metadata": {},
   "outputs": [
    {
     "name": "stdout",
     "output_type": "stream",
     "text": [
      "<s> You are an intelligent gene-related question expert.\n",
      "Below is a question related to the gene. \n",
      "Write an answer with detailed explanation.\n",
      "Even if you are not sure about the answer, you should choose at least one choice from the options provided.\n",
      "The response should provide an accurate answer to the question, while being concise.\n",
      "\n",
      "[Question begin]\n",
      "An apparently healthy adult woman is referred to genetics because her father and sister have what appears to be a type of familial hypertrophic cardiomyopathy. Who would be the most informative family member to test first? 1.The woman’s child 2.The woman’s father 3.The woman herself  4.The woman’s mother\n",
      "[question End]\n",
      "\n",
      "The woman's child would be the most informative family member to test first as they would inherit the genetic mutation from the mother.</s><s>\n"
     ]
    }
   ],
   "source": [
    "q = \"An apparently healthy adult woman is referred to genetics because her father and sister have what appears to be a type of familial hypertrophic cardiomyopathy. Who would be the most informative family member to test first? 1.The woman’s child 2.The woman’s father 3.The woman herself  4.The woman’s mother\"\n",
    "generate_answer(q)"
   ]
  },
  {
   "cell_type": "markdown",
   "id": "69ebd03c-2b14-4b6a-8a7c-ae447aab3f85",
   "metadata": {},
   "source": [
    "### Q357"
   ]
  },
  {
   "cell_type": "code",
   "execution_count": 25,
   "id": "af6decc2-d0a4-4481-bd63-a784bfd166b5",
   "metadata": {},
   "outputs": [
    {
     "name": "stdout",
     "output_type": "stream",
     "text": [
      "<s> You are an intelligent gene-related question expert.\n",
      "Below is a question related to the gene. \n",
      "Write an answer with detailed explanation.\n",
      "Even if you are not sure about the answer, you should choose at least one choice from the options provided.\n",
      "The response should provide an accurate answer to the question, while being concise.\n",
      "\n",
      "[Question begin]\n",
      "An apparently healthy adult woman was referred to genetics because her father and sister have familial hypertrophic cardiomyopathy. Genetic testing reveals a VUS in a relevant gene in the father, which is not resolved by further familial testing. Based on this, what is recommended for the woman? 1.Discharge from care 2.Genetic testing of the woman’s children 3.Immediate ICD placement 4.Regular clinical cardiac evaluation\n",
      "[question End]\n",
      "\n",
      "Based on the information provided, it is recommended that the woman undergo genetic testing of her children. However, it is unclear if the VUS found in the father is related to the familial hypertrophic cardiomyopathy or if it is a separate condition. Further evaluation may be necessary to determine the appropriate course of action for the woman.</s><s>\n"
     ]
    }
   ],
   "source": [
    "q = \"An apparently healthy adult woman was referred to genetics because her father and sister have familial hypertrophic cardiomyopathy. Genetic testing reveals a VUS in a relevant gene in the father, which is not resolved by further familial testing. Based on this, what is recommended for the woman? 1.Discharge from care 2.Genetic testing of the woman’s children 3.Immediate ICD placement 4.Regular clinical cardiac evaluation\"\n",
    "generate_answer(q)"
   ]
  },
  {
   "cell_type": "markdown",
   "id": "16046b2d-c34f-4137-b512-ce6c0239960b",
   "metadata": {},
   "source": [
    "### Q358"
   ]
  },
  {
   "cell_type": "code",
   "execution_count": 27,
   "id": "f3b27496-a822-4124-833e-c4e81e0a367a",
   "metadata": {},
   "outputs": [
    {
     "name": "stdout",
     "output_type": "stream",
     "text": [
      "<s> You are an intelligent gene-related question expert.\n",
      "Below is a question related to the gene. \n",
      "Write an answer with detailed explanation.\n",
      "Even if you are not sure about the answer, you should choose at least one choice from the options provided.\n",
      "The response should provide an accurate answer to the question, while being concise.\n",
      "\n",
      "[Question begin]\n",
      "A several month-old boy has a scaly skin rash. Assuming a genetic diagnosis, deficiency of what enzyme might be suspected? 1.Aldolase B 2.Arginase 3.Mevalonate kinase 4.Steroid sulfatase\n",
      "[question End]\n",
      "\n",
      "Based on the given information, deficiency of aldolase B is suspected in the several month-old boy with a scaly skin rash. This is because aldolase B is responsible for the conversion of fatty acids into energy, and its deficiency can lead to a buildup of fatty acids in the body, which can cause a variety of symptoms including a scaly skin rash.</s><s>\n"
     ]
    }
   ],
   "source": [
    "q = \"A several month-old boy has a scaly skin rash. Assuming a genetic diagnosis, deficiency of what enzyme might be suspected? 1.Aldolase B 2.Arginase 3.Mevalonate kinase 4.Steroid sulfatase\"\n",
    "generate_answer(q)"
   ]
  },
  {
   "cell_type": "markdown",
   "id": "2b86b18a-d135-4784-a2b2-cad5965438ea",
   "metadata": {},
   "source": [
    "### Q359"
   ]
  },
  {
   "cell_type": "code",
   "execution_count": 29,
   "id": "f8d3d272-4587-4175-8f5b-40c403e9c518",
   "metadata": {},
   "outputs": [
    {
     "name": "stdout",
     "output_type": "stream",
     "text": [
      "<s> You are an intelligent gene-related question expert.\n",
      "Below is a question related to the gene. \n",
      "Write an answer with detailed explanation.\n",
      "Even if you are not sure about the answer, you should choose at least one choice from the options provided.\n",
      "The response should provide an accurate answer to the question, while being concise.\n",
      "\n",
      "[Question begin]\n",
      "Which of the following refers to the most common isochromosome in humans? i(1q) i(18p) i(Xq) i(Yp)\n",
      "[question End]\n",
      "\n",
      "The most common isochromosome in humans is i(1q), which is a result of the duplication of the short arm of chromosome 1.</s><s>\n"
     ]
    }
   ],
   "source": [
    "q = \"Which of the following refers to the most common isochromosome in humans? i(1q) i(18p) i(Xq) i(Yp)\"\n",
    "generate_answer(q)"
   ]
  },
  {
   "cell_type": "markdown",
   "id": "8f0a3593-ce87-4ffa-af7d-05cb23adece1",
   "metadata": {},
   "source": [
    "### Q361"
   ]
  },
  {
   "cell_type": "code",
   "execution_count": 34,
   "id": "07a75107-44b8-4a89-9506-789af644be99",
   "metadata": {},
   "outputs": [],
   "source": [
    "question = \"The Genetic Information Nondiscrimination Act (GINA) of 2008 aims to protect Americans from discrimination based on their genetic information related to which of the choices below?\"\n",
    "\n",
    "choices = [\n",
    "    \"1.Disability insurance and Life insurance\",\n",
    "    \"2.Employment\",\n",
    "    \"3.Health insurance and Employment\",\n",
    "    \"4.Long-term care insurance\"\n",
    "]\n",
    "\n",
    "query = question + \"\\n\" + \"\\n\".join(choices)"
   ]
  },
  {
   "cell_type": "code",
   "execution_count": 33,
   "id": "bd021f1c-ba15-42ac-9a32-b4b1de417ad5",
   "metadata": {},
   "outputs": [
    {
     "name": "stdout",
     "output_type": "stream",
     "text": [
      "<s> You are an intelligent gene-related question expert.\n",
      "Below is a question related to the gene. \n",
      "Write an answer with detailed explanation.\n",
      "Even if you are not sure about the answer, you should choose at least one choice from the options provided.\n",
      "The response should provide an accurate answer to the question, while being concise.\n",
      "\n",
      "[Question begin]\n",
      "The Genetic Information Nondiscrimination Act (GINA) of 2008 aims to protect Americans from discrimination based on their genetic information related to which of the choices below?\n",
      "1.Disability insurance and Life insurance\n",
      "2.Employment\n",
      "3.Health insurance and Employment\n",
      "4.Long-term care insurance\n",
      "[question End]\n",
      "\n",
      "The Genetic Information Nondiscrimination Act (GINA) of 2008 aims to protect Americans from discrimination based on their genetic information related to their health insurance and employment. However, it does not specify which of the choices provided in the question is the correct answer. Therefore, it is unanswerable with the given information.</s><s>\n"
     ]
    }
   ],
   "source": [
    "generate_answer(query)"
   ]
  },
  {
   "cell_type": "markdown",
   "id": "df679407-507b-4e50-91a4-aedb06817e99",
   "metadata": {},
   "source": [
    "### 363"
   ]
  },
  {
   "cell_type": "code",
   "execution_count": 37,
   "id": "97259143-97fe-4f15-a572-a4943a4bc100",
   "metadata": {},
   "outputs": [],
   "source": [
    "question = \"A woman is affected by an autosomal dominant condition (that is completely penetrant). She has three children. What is the chance that all three of her children are affected by the condition?\"\n",
    "\n",
    "choices = [\n",
    "\"12.5%\",\n",
    "\"25%\",\n",
    "\"50%\",\n",
    "\"75%\"\\\n",
    "]\n",
    "query = question + \"\\n\" + \"\\n\".join(choices)"
   ]
  },
  {
   "cell_type": "code",
   "execution_count": 39,
   "id": "a179314e-464c-4b22-b310-2a65fb04b649",
   "metadata": {},
   "outputs": [
    {
     "name": "stdout",
     "output_type": "stream",
     "text": [
      "<s> You are an intelligent gene-related question expert.\n",
      "Below is a question related to the gene. \n",
      "Write an answer with detailed explanation.\n",
      "Even if you are not sure about the answer, you should choose at least one choice from the options provided.\n",
      "The response should provide an accurate answer to the question, while being concise.\n",
      "\n",
      "[Question begin]\n",
      "A woman is affected by an autosomal dominant condition (that is completely penetrant). She has three children. What is the chance that all three of her children are affected by the condition?\n",
      "12.5%\n",
      "25%\n",
      "50%\n",
      "75%\n",
      "[question End]\n",
      "\n",
      "The chance that all three of her children are affected by the condition is 25%.</s><s>\n"
     ]
    }
   ],
   "source": [
    "generate_answer(query)"
   ]
  },
  {
   "cell_type": "markdown",
   "id": "f4efaca8-bff9-4c64-a803-6d23fa001949",
   "metadata": {},
   "source": [
    "### Q364"
   ]
  },
  {
   "cell_type": "code",
   "execution_count": 40,
   "id": "df35e186-fdbb-4b0f-b811-15f5bf5c0b02",
   "metadata": {},
   "outputs": [],
   "source": [
    "question = \"Due to physical examination and family history findings suggestive of a genetic condition, a person has been found to have a pathogenic variant in FBN1. Based on this, what medical treatment would most likely be indicated (though this would only be indicated for some conditions related to this gene)?\"\n",
    "choices = [\n",
    "\"Anakinra\",\n",
    "\"Beta blocker\",\n",
    "\"Carnitine\",\n",
    "\"Digoxin\"\n",
    "]\n",
    "query = question + \"\\n\" + \"\\n\".join(choices)"
   ]
  },
  {
   "cell_type": "code",
   "execution_count": 41,
   "id": "79d38d0b-5b31-4c01-beb3-acd3b92fe489",
   "metadata": {},
   "outputs": [
    {
     "name": "stdout",
     "output_type": "stream",
     "text": [
      "<s> You are an intelligent gene-related question expert.\n",
      "Below is a question related to the gene. \n",
      "Write an answer with detailed explanation.\n",
      "Even if you are not sure about the answer, you should choose at least one choice from the options provided.\n",
      "The response should provide an accurate answer to the question, while being concise.\n",
      "\n",
      "[Question begin]\n",
      "Due to physical examination and family history findings suggestive of a genetic condition, a person has been found to have a pathogenic variant in FBN1. Based on this, what medical treatment would most likely be indicated (though this would only be indicated for some conditions related to this gene)?\n",
      "Anakinra\n",
      "Beta blocker\n",
      "Carnitine\n",
      "Digoxin\n",
      "[question End]\n",
      "\n",
      "Based on the information provided, the medical treatment most likely indicated for the patient would be Anakinra, a medication used to treat a rare genetic disorder called Neurofibromatosis type 1 (NF1). However, it is important to note that this is only a likely indication for some conditions related to the FBN1 gene, as the disorder can present differently in each individual. Further evaluation and consultation with a healthcare professional may be necessary to determine the most appropriate treatment plan.</s><s>\n"
     ]
    }
   ],
   "source": [
    "generate_answer(query)"
   ]
  },
  {
   "cell_type": "markdown",
   "id": "308204dd-a2d0-44c2-ad3d-fed0d682a13c",
   "metadata": {},
   "source": [
    "### Q365"
   ]
  },
  {
   "cell_type": "code",
   "execution_count": 15,
   "id": "84859adf-e4d1-4a17-b9f9-e525b7739830",
   "metadata": {},
   "outputs": [
    {
     "name": "stdout",
     "output_type": "stream",
     "text": [
      "<s> You are an intelligent gene-related question expert.\n",
      "Below is a question related to the gene. \n",
      "Write an answer with detailed explanation.\n",
      "Even if you are not sure about the answer, you should choose one choice from the options provided.\n",
      "The response should provide an accurate answer to the question, while being concise.\n",
      "\n",
      "[Question begin]\n",
      "Based on medical history and examination, a patient is suspected to have Pallister-Killian syndrome. What tissue source(s) or sample type(s) would likely be most helpful to confirm the diagnosis?\n",
      "1. CSF\n",
      "2. Peripheral blood or saliva\n",
      "3. Buccal swab or skin biopsy\n",
      "4. Urine\n",
      "[question End]\n",
      "\n",
      "Based on the given information, CSF would likely be the most helpful tissue source or sample type to confirm the diagnosis of Pallister-Killian syndrome. However, it is important to note that additional information about the patient's medical history and examination may be necessary to determine the most appropriate sample type or tissue source for confirming this diagnosis.</s><s>\n"
     ]
    }
   ],
   "source": [
    "question = \"Based on medical history and examination, a patient is suspected to have Pallister-Killian syndrome. What tissue source(s) or sample type(s) would likely be most helpful to confirm the diagnosis?\"\n",
    "choices = [\n",
    "\"1. CSF\",\n",
    "\"2. Peripheral blood or saliva\",\n",
    "\"3. Buccal swab or skin biopsy\",\n",
    "\"4. Urine\"\n",
    "]\n",
    "query = question + \"\\n\" + \"\\n\".join(choices)\n",
    "generate_answer(query)"
   ]
  },
  {
   "cell_type": "markdown",
   "id": "be402e11-3dba-42e8-a731-65babf07dc07",
   "metadata": {},
   "source": [
    "### Q366"
   ]
  },
  {
   "cell_type": "code",
   "execution_count": 14,
   "id": "190f3f74-a25d-447f-9a6b-82ff21324e4a",
   "metadata": {},
   "outputs": [
    {
     "name": "stdout",
     "output_type": "stream",
     "text": [
      "<s> You are an intelligent gene-related question expert.\n",
      "Below is a question related to the gene. \n",
      "Write an answer with detailed explanation.\n",
      "Even if you are not sure about the answer, you should choose one choice from the options provided.\n",
      "The response should provide an accurate answer to the question, while being concise.\n",
      "\n",
      "[Question begin]\n",
      "For which condition is there an FDA-approved gene therapy available?\n",
      "1. ADA-SCID\n",
      "2. Familial hypercholesterolemia\n",
      "3. Progeria\n",
      "4. Spinal muscular atrophy\n",
      "[question End]\n",
      "\n",
      "There is currently an FDA-approved gene therapy available for ADA-SCID, which is a form of severe combined immune deficiency caused by a mutation in the ADA gene. However, there are no FDA-approved gene therapies available for the other conditions listed in the question, including familial hypercholesterolemia, progeria, and spinal muscular atrophy.</s><s>\n"
     ]
    }
   ],
   "source": [
    "question = \"For which condition is there an FDA-approved gene therapy available?\"\n",
    "choices = [\n",
    "\"1. ADA-SCID\",\n",
    "\"2. Familial hypercholesterolemia\",\n",
    "\"3. Progeria\",\n",
    "\"4. Spinal muscular atrophy\"\n",
    "]\n",
    "query = question + \"\\n\" + \"\\n\".join(choices)\n",
    "generate_answer(query)"
   ]
  },
  {
   "cell_type": "markdown",
   "id": "33169ba5-cd94-45c2-aec3-dca377c6104e",
   "metadata": {},
   "source": [
    "### Q367"
   ]
  },
  {
   "cell_type": "code",
   "execution_count": 16,
   "id": "e5787255-6c16-43ce-bf90-c22addb10192",
   "metadata": {},
   "outputs": [
    {
     "name": "stdout",
     "output_type": "stream",
     "text": [
      "<s> You are an intelligent gene-related question expert.\n",
      "Below is a question related to the gene. \n",
      "Write an answer with detailed explanation.\n",
      "Even if you are not sure about the answer, you should choose one choice from the options provided.\n",
      "The response should provide an accurate answer to the question, while being concise.\n",
      "\n",
      "[Question begin]\n",
      "Gene therapies have been developed and tested to treat a number of genetic conditions, including a type of spinal muscular atrophy (SMA), which was FDA-approved in 2019. Gene therapy and gene editing-based treatments are being studied related to many other conditions. Of note, gene therapy for ADA-SCID has been approved in Europe, but not by the FDA in the US.\n",
      "1. Euchromatin\n",
      "2. Haplotype\n",
      "3. Pseudogene\n",
      "4. Recombinant\n",
      "[question End]\n",
      "\n",
      "Euchromatin refers to the chromosomal DNA that is rich in Cytosine-Adenine (CA) repeat sequences. Haplotype refers to a group of genes that are inherited together as a unit. Pseudogene refers to a gene that has a similar sequence to a functional gene but does not produce any protein. Recombinant refers to a genetically modified organism that has had its DNA altered through genetic engineering. \n",
      "\n",
      "Based on the given information, it is not possible to determine if there are any other conditions or diseases that gene therapies are being studied for besides those mentioned in the question.</s><s>\n"
     ]
    }
   ],
   "source": [
    "question = \"Gene therapies have been developed and tested to treat a number of genetic conditions, including a type of spinal muscular atrophy (SMA), which was FDA-approved in 2019. Gene therapy and gene editing-based treatments are being studied related to many other conditions. Of note, gene therapy for ADA-SCID has been approved in Europe, but not by the FDA in the US.\"\n",
    "choices = [\n",
    "\"1. Euchromatin\",\n",
    "\"2. Haplotype\",\n",
    "\"3. Pseudogene\",\n",
    "\"4. Recombinant\"\n",
    "]\n",
    "query = question + \"\\n\" + \"\\n\".join(choices)\n",
    "generate_answer(query)"
   ]
  },
  {
   "cell_type": "markdown",
   "id": "a0f2027e-5158-472c-b6a4-249235bbfe61",
   "metadata": {},
   "source": [
    "### 369"
   ]
  },
  {
   "cell_type": "code",
   "execution_count": 18,
   "id": "fd4a031f-3c8d-4108-b3be-03f8393a7502",
   "metadata": {},
   "outputs": [
    {
     "name": "stdout",
     "output_type": "stream",
     "text": [
      "<s> You are an intelligent gene-related question expert.\n",
      "Below is a question related to the gene. \n",
      "Write an answer with detailed explanation.\n",
      "Even if you are not sure about the answer, you should choose one choice from the options provided.\n",
      "The response should provide an accurate answer to the question, while being concise.\n",
      "\n",
      "[Question begin]\n",
      "A child with optic atrophy has been diagnosed with Wolfram syndrome. Testing for what other clinical manifestation would be warranted?\n",
      "1. Diabetes mellitus\n",
      "2. Hirschsprung disease\n",
      "3. Hypercholesterolemia\n",
      "4. Immunodeficiency\n",
      "[question End]\n",
      "\n",
      "Based on the given information, it is not clear what other clinical manifestation would be warranted for testing. The discharge summary only mentions optic atrophy and Wolfram syndrome. There is no information provided about other potential clinical manifestations that would require testing. Therefore, it is not possible to answer this question with the given information.</s><s>\n"
     ]
    }
   ],
   "source": [
    "question = \"A child with optic atrophy has been diagnosed with Wolfram syndrome. Testing for what other clinical manifestation would be warranted?\"\n",
    "choices = [\n",
    "\"1. Diabetes mellitus\",\n",
    "\"2. Hirschsprung disease\",\n",
    "\"3. Hypercholesterolemia\",\n",
    "\"4. Immunodeficiency\"\n",
    "]\n",
    "query = question + \"\\n\" + \"\\n\".join(choices)\n",
    "generate_answer(query)"
   ]
  },
  {
   "cell_type": "markdown",
   "id": "a5c4e3d2-0bc9-4195-9b93-24730aba0a85",
   "metadata": {},
   "source": [
    "### 370"
   ]
  },
  {
   "cell_type": "code",
   "execution_count": 19,
   "id": "03762f83-bfb5-40cf-a6f6-0d903c81969b",
   "metadata": {},
   "outputs": [
    {
     "name": "stdout",
     "output_type": "stream",
     "text": [
      "<s> You are an intelligent gene-related question expert.\n",
      "Below is a question related to the gene. \n",
      "Write an answer with detailed explanation.\n",
      "Even if you are not sure about the answer, you should choose one choice from the options provided.\n",
      "The response should provide an accurate answer to the question, while being concise.\n",
      "\n",
      "[Question begin]\n",
      "A neonate has an older brother with molecularly-confirmed familial hemophagocytic lymphohistiocytosis (fHLH). Based on the causes of fHLH, what is the most likely chance that the neonate will also be “genetically affected” (have also inherited the causative variant(s))?\n",
      "1. 25%\n",
      "2. 33%\n",
      "3. 50%\n",
      "4. 67%\n",
      "[question End]\n",
      "\n",
      "Based on the information provided, the neonate has a 50% chance of being genetically affected by familial hemophagocytic lymphohistiocytosis (fHLH).</s><s>\n"
     ]
    }
   ],
   "source": [
    "question = \"A neonate has an older brother with molecularly-confirmed familial hemophagocytic lymphohistiocytosis (fHLH). Based on the causes of fHLH, what is the most likely chance that the neonate will also be “genetically affected” (have also inherited the causative variant(s))?\"\n",
    "choices = [\n",
    "\"1. 25%\",\n",
    "\"2. 33%\",\n",
    "\"3. 50%\",\n",
    "\"4. 67%\"\n",
    "]\n",
    "query = question + \"\\n\" + \"\\n\".join(choices)\n",
    "generate_answer(query)"
   ]
  },
  {
   "cell_type": "markdown",
   "id": "d74687c3-c27c-41fc-bc6b-44bc2db4e04f",
   "metadata": {},
   "source": [
    "### 371"
   ]
  },
  {
   "cell_type": "code",
   "execution_count": 20,
   "id": "89761988-f48c-419a-9ede-86d9d939408a",
   "metadata": {},
   "outputs": [
    {
     "name": "stdout",
     "output_type": "stream",
     "text": [
      "<s> You are an intelligent gene-related question expert.\n",
      "Below is a question related to the gene. \n",
      "Write an answer with detailed explanation.\n",
      "Even if you are not sure about the answer, you should choose one choice from the options provided.\n",
      "The response should provide an accurate answer to the question, while being concise.\n",
      "\n",
      "[Question begin]\n",
      "Overall in humans, autosomal aneuploidies most commonly occur due to events during which stage of meiosis?\n",
      "1. Maternal meiosis I\n",
      "2. Maternal meiosis II\n",
      "3. Paternal meiosis I%\n",
      "4. Paternal meiosis II%\n",
      "[question End]\n",
      "\n",
      "Based on the information provided, it is not possible to determine the stage of meiosis during which autosomal aneuploidies most commonly occur in humans. The discharge summary does not specify which stage of meiosis is most commonly associated with the occurrence of autosomal aneuploidies in humans.</s><s>\n"
     ]
    }
   ],
   "source": [
    "question = \"Overall in humans, autosomal aneuploidies most commonly occur due to events during which stage of meiosis?\"\n",
    "choices = [\n",
    "\"1. Maternal meiosis I\",\n",
    "\"2. Maternal meiosis II\",\n",
    "\"3. Paternal meiosis I%\",\n",
    "\"4. Paternal meiosis II%\"\n",
    "]\n",
    "query = question + \"\\n\" + \"\\n\".join(choices)\n",
    "generate_answer(query)"
   ]
  },
  {
   "cell_type": "markdown",
   "id": "a40d5dab-e704-49f5-8c16-f0f8f3c812bf",
   "metadata": {},
   "source": [
    "### 373"
   ]
  },
  {
   "cell_type": "code",
   "execution_count": 23,
   "id": "d4f26212-2ea4-42a6-a9b8-0008618997f5",
   "metadata": {},
   "outputs": [
    {
     "name": "stdout",
     "output_type": "stream",
     "text": [
      "<s> You are an intelligent gene-related question expert.\n",
      "Below is a question related to the gene. \n",
      "Write an answer with detailed explanation.\n",
      "Even if you are not sure about the answer, you should choose one choice from the options provided.\n",
      "The response should provide an accurate answer to the question, while being concise.\n",
      "\n",
      "[Question begin]\n",
      "You are seeing a patient suspected to have septo-optic dysplasia. In addition to agenesis/anomalies of the septum pellucidum and corpus callosum and optic nerve hypoplasia, what finding would you most likely anticipate?\n",
      "1. Hirschsprung disease\n",
      "2. Melanoma\n",
      "3. Pituitary anomalies\n",
      "4. Rhizomelia\n",
      "[question End]\n",
      "\n",
      "I would anticipate pituitary anomalies as the most likely finding in a patient suspected to have septo-optic dysplasia.</s><s>\n"
     ]
    }
   ],
   "source": [
    "question = \"You are seeing a patient suspected to have septo-optic dysplasia. In addition to agenesis/anomalies of the septum pellucidum and corpus callosum and optic nerve hypoplasia, what finding would you most likely anticipate?\"\n",
    "choices = [\n",
    "\"1. Hirschsprung disease\",\n",
    "\"2. Melanoma\",\n",
    "\"3. Pituitary anomalies\",\n",
    "\"4. Rhizomelia\"\n",
    "]\n",
    "query = question + \"\\n\" + \"\\n\".join(choices)\n",
    "generate_answer(query)"
   ]
  },
  {
   "cell_type": "markdown",
   "id": "981251e2-dc56-4396-8ddf-e78e97bfb36e",
   "metadata": {},
   "source": [
    "### 374"
   ]
  },
  {
   "cell_type": "code",
   "execution_count": 26,
   "id": "ddf25775-0c2f-4a40-9700-c2882577bad4",
   "metadata": {},
   "outputs": [
    {
     "name": "stdout",
     "output_type": "stream",
     "text": [
      "<s> You are an intelligent gene-related question expert.\n",
      "Below is a question related to the gene. \n",
      "Write an answer with detailed explanation.\n",
      "Even if you are not sure about the answer, you should choose one choice from the options provided.\n",
      "The response should provide an accurate answer to the question, while being concise.\n",
      "\n",
      "[Question begin]\n",
      "A woman and a man have a child. Later, the man has another child, this time with the woman’s sister. Approximately what proportion of their DNA would the two children be expected to have in common?\n",
      "1. 25%\n",
      "2. 37.5%\n",
      "3. 50%\n",
      "4. 67%\n",
      "[question End]\n",
      "\n",
      "The two children would be expected to share approximately 37.5% of their DNA in common, as the man and woman had a child together, and then the man had another child with the woman's sister.</s><s>\n"
     ]
    }
   ],
   "source": [
    "question = \"A woman and a man have a child. Later, the man has another child, this time with the woman’s sister. Approximately what proportion of their DNA would the two children be expected to have in common?\"\n",
    "choices = [\n",
    "\"1. 25%\",\n",
    "\"2. 37.5%\",\n",
    "\"3. 50%\",\n",
    "\"4. 67%\"\n",
    "]\n",
    "query = question + \"\\n\" + \"\\n\".join(choices)\n",
    "generate_answer(query)"
   ]
  },
  {
   "cell_type": "markdown",
   "id": "4827bf97-d9f4-4f26-83f2-1f1f77cad991",
   "metadata": {},
   "source": [
    "### 375"
   ]
  },
  {
   "cell_type": "code",
   "execution_count": 27,
   "id": "319f907e-37ee-43a6-a807-73546d829ef2",
   "metadata": {},
   "outputs": [
    {
     "name": "stdout",
     "output_type": "stream",
     "text": [
      "<s> You are an intelligent gene-related question expert.\n",
      "Below is a question related to the gene. \n",
      "Write an answer with detailed explanation.\n",
      "Even if you are not sure about the answer, you should choose one choice from the options provided.\n",
      "The response should provide an accurate answer to the question, while being concise.\n",
      "\n",
      "[Question begin]\n",
      "You are asked to do a genetics consult for a patient whose condition includes overgrowth, vascular malformations, and skin findings (eg, epidermal nevus). Genome sequencing on peripheral blood was unrevealing. Which gene might you suspect?\n",
      "1. GNAQ\n",
      "2. PIK3CA\n",
      "3. PTPN11\n",
      "4. TP53\n",
      "[question End]\n",
      "\n",
      "Based on the information provided, I would suspect GNAQ as a potential gene candidate for the patient'<s>\n"
     ]
    }
   ],
   "source": [
    "question = \"You are asked to do a genetics consult for a patient whose condition includes overgrowth, vascular malformations, and skin findings (eg, epidermal nevus). Genome sequencing on peripheral blood was unrevealing. Which gene might you suspect?\"\n",
    "choices = [\n",
    "\"1. GNAQ\",\n",
    "\"2. PIK3CA\",\n",
    "\"3. PTPN11\",\n",
    "\"4. TP53\"\n",
    "]\n",
    "query = question + \"\\n\" + \"\\n\".join(choices)\n",
    "generate_answer(query)"
   ]
  },
  {
   "cell_type": "markdown",
   "id": "76b02a5c-1387-427f-9ea5-38f0ea8c75ef",
   "metadata": {},
   "source": [
    "### 377"
   ]
  },
  {
   "cell_type": "code",
   "execution_count": 28,
   "id": "ca244ceb-6190-4493-953f-01dd48e86864",
   "metadata": {},
   "outputs": [
    {
     "name": "stdout",
     "output_type": "stream",
     "text": [
      "<s> You are an intelligent gene-related question expert.\n",
      "Below is a question related to the gene. \n",
      "Write an answer with detailed explanation.\n",
      "Even if you are not sure about the answer, you should choose one choice from the options provided.\n",
      "The response should provide an accurate answer to the question, while being concise.\n",
      "\n",
      "[Question begin]\n",
      "An adult woman has a history of easy bruising and prolonged bleeding. Her father had acute myelogenous leukemia; she mentions that he also seemed to have similar bruising and bleeding issues. What gene would most likely be involved?\n",
      "1. PTEN\n",
      "2. PTCH1\n",
      "3. RUNX1\n",
      "4. VHL\n",
      "[question End]\n",
      "\n",
      "Based on the information provided, the gene most likely involved in the patient's easy bruising and prolonged bleeding is VHL. This is because VHL is associated with hereditary hemorrhagic telangiectasia (HHT), which is a genetic disorder that causes abnormalities in blood vessels and can lead to easy bruising and prolonged bleeding. However, it is important to note that other genes, such as PTEN, PTCH1, and RUNX1, may also be involved in HHT and could contribute to the patient's symptoms.</s><s>\n"
     ]
    }
   ],
   "source": [
    "question = \"An adult woman has a history of easy bruising and prolonged bleeding. Her father had acute myelogenous leukemia; she mentions that he also seemed to have similar bruising and bleeding issues. What gene would most likely be involved?\"\n",
    "choices = [\n",
    "\"1. PTEN\",\n",
    "\"2. PTCH1\",\n",
    "\"3. RUNX1\",\n",
    "\"4. VHL\"\n",
    "]\n",
    "query = question + \"\\n\" + \"\\n\".join(choices)\n",
    "generate_answer(query)"
   ]
  },
  {
   "cell_type": "markdown",
   "id": "f1d608a4-e535-44b9-b181-bce41f422c52",
   "metadata": {},
   "source": [
    "### 379"
   ]
  },
  {
   "cell_type": "code",
   "execution_count": 30,
   "id": "314c75ec-77fe-4f97-88e3-088a9997763d",
   "metadata": {},
   "outputs": [
    {
     "name": "stdout",
     "output_type": "stream",
     "text": [
      "<s> You are an intelligent gene-related question expert.\n",
      "Below is a question related to the gene. \n",
      "Write an answer with detailed explanation.\n",
      "Even if you are not sure about the answer, you should choose one choice from the options provided.\n",
      "The response should provide an accurate answer to the question, while being concise.\n",
      "\n",
      "[Question begin]\n",
      "A genetic condition that affects about 1 in 50,000 infants is added to newborn screening. The assay for the condition has 99.9% sensitivity and 99.9% specificity. An infant has a positive screen result. Based on just this information, what is the (approximate) chance the child has the condition?\n",
      "1. 0.01%\n",
      "2. 2%\n",
      "3. 98%\n",
      "4. 99.9%\n",
      "[question End]\n",
      "\n",
      "Based on the information provided, the approximate chance that the child has the genetic condition is 99.9%.</s><s>\n"
     ]
    }
   ],
   "source": [
    "question = \"A genetic condition that affects about 1 in 50,000 infants is added to newborn screening. The assay for the condition has 99.9% sensitivity and 99.9% specificity. An infant has a positive screen result. Based on just this information, what is the (approximate) chance the child has the condition?\"\n",
    "choices = [\n",
    "\"1. 0.01%\",\n",
    "\"2. 2%\",\n",
    "\"3. 98%\",\n",
    "\"4. 99.9%\"\n",
    "]\n",
    "query = question + \"\\n\" + \"\\n\".join(choices)\n",
    "generate_answer(query)"
   ]
  },
  {
   "cell_type": "markdown",
   "id": "cc63e987-759c-4bd6-86ec-385d42739954",
   "metadata": {},
   "source": [
    "### 380"
   ]
  },
  {
   "cell_type": "code",
   "execution_count": 32,
   "id": "d090bf35-66d0-4748-8bdc-90b65baa0ca3",
   "metadata": {},
   "outputs": [
    {
     "name": "stdout",
     "output_type": "stream",
     "text": [
      "<s> You are an intelligent gene-related question expert.\n",
      "Below is a question related to the gene. \n",
      "Write an answer with detailed explanation.\n",
      "Even if you are not sure about the answer, you should choose one choice from the options provided.\n",
      "The response should provide an accurate answer to the question, while being concise.\n",
      "\n",
      "[Question begin]\n",
      "A man and a woman both have a clinical condition because they both have a certain heterozygous genetic variant. They have a child, who inherits both genetic changes (one from each parent). The child is much more severely affected than the parents. What is the term for this inheritance?\n",
      "1. Codominance\n",
      "2. Incomplete dominance\n",
      "3. Variable expressivity\n",
      "4. X-linked inheritance\n",
      "[question End]\n",
      "\n",
      "The term for this inheritance is codominance.</s><s>\n"
     ]
    }
   ],
   "source": [
    "question = \"A man and a woman both have a clinical condition because they both have a certain heterozygous genetic variant. They have a child, who inherits both genetic changes (one from each parent). The child is much more severely affected than the parents. What is the term for this inheritance?\"\n",
    "choices = [\n",
    "\"1. Codominance\",\n",
    "\"2. Incomplete dominance\",\n",
    "\"3. Variable expressivity\",\n",
    "\"4. X-linked inheritance\"\n",
    "]\n",
    "query = question + \"\\n\" + \"\\n\".join(choices)\n",
    "generate_answer(query)"
   ]
  },
  {
   "cell_type": "markdown",
   "id": "793cd7da-3ff7-475d-b6c9-3ef79c49375f",
   "metadata": {},
   "source": [
    "### 382"
   ]
  },
  {
   "cell_type": "code",
   "execution_count": 33,
   "id": "d447c55c-b063-453c-8971-476ac51d3123",
   "metadata": {},
   "outputs": [
    {
     "name": "stdout",
     "output_type": "stream",
     "text": [
      "<s> You are an intelligent gene-related question expert.\n",
      "Below is a question related to the gene. \n",
      "Write an answer with detailed explanation.\n",
      "Even if you are not sure about the answer, you should choose one choice from the options provided.\n",
      "The response should provide an accurate answer to the question, while being concise.\n",
      "\n",
      "[Question begin]\n",
      "A person has a very rare genetic condition that affects about 1 in 500,000 people. A test to detect this condition has 95% sensitivity and 99% specificity. What is the chance that the test will be negative for this individual?\n",
      "1. 1%\n",
      "2. 5%\n",
      "3. 95%\n",
      "4. 99%\n",
      "[question End]\n",
      "\n",
      "The chance that the test will be negative for this individual is 99%.</s><s>\n"
     ]
    }
   ],
   "source": [
    "question = \"A person has a very rare genetic condition that affects about 1 in 500,000 people. A test to detect this condition has 95% sensitivity and 99% specificity. What is the chance that the test will be negative for this individual?\"\n",
    "choices = [\n",
    "\"1. 1%\",\n",
    "\"2. 5%\",\n",
    "\"3. 95%\",\n",
    "\"4. 99%\"\n",
    "]\n",
    "query = question + \"\\n\" + \"\\n\".join(choices)\n",
    "generate_answer(query)"
   ]
  },
  {
   "cell_type": "markdown",
   "id": "bb3be5d4-f061-49a2-b587-1c899786c4b1",
   "metadata": {},
   "source": [
    "### 383"
   ]
  },
  {
   "cell_type": "code",
   "execution_count": 34,
   "id": "d480dbf7-3811-4bfa-8847-91d07e98b9db",
   "metadata": {},
   "outputs": [
    {
     "name": "stdout",
     "output_type": "stream",
     "text": [
      "<s> You are an intelligent gene-related question expert.\n",
      "Below is a question related to the gene. \n",
      "Write an answer with detailed explanation.\n",
      "Even if you are not sure about the answer, you should choose one choice from the options provided.\n",
      "The response should provide an accurate answer to the question, while being concise.\n",
      "\n",
      "[Question begin]\n",
      "A person undergoes enzymatic testing for beta-hexosaminidase A (HEX A, related to Tay-Sachs disease). The result shows absent enzyme activity. However, the person is not affected, and does not carry a disease-associated allele. What is the best explanation for this?\n",
      "1. Allele dropout\n",
      "2. Gene duplication\n",
      "3. Nondisjunction4. Pseudodeficiency\n",
      "[question End]\n",
      "\n",
      "The best explanation for the absence of enzyme activity in the patient is allele dropout, which means that the enzyme gene is not present or is not functional. This can happen due to a variety of reasons, such as gene deletion or mutation. However, in this case, the patient does not carry a disease-associated allele and is not affected by Tay-Sachs disease. Therefore, allele dropout is the most likely explanation for the absence of enzyme activity.</s><s>\n"
     ]
    }
   ],
   "source": [
    "question = \"A person undergoes enzymatic testing for beta-hexosaminidase A (HEX A, related to Tay-Sachs disease). The result shows absent enzyme activity. However, the person is not affected, and does not carry a disease-associated allele. What is the best explanation for this?\"\n",
    "choices = [\n",
    "\"1. Allele dropout\",\n",
    "\"2. Gene duplication\",\n",
    "\"3. Nondisjunction\"\n",
    "\"4. Pseudodeficiency\"\n",
    "]\n",
    "query = question + \"\\n\" + \"\\n\".join(choices)\n",
    "generate_answer(query)"
   ]
  },
  {
   "cell_type": "markdown",
   "id": "f602980a-b3f7-4c9a-88c3-1e22861a965c",
   "metadata": {},
   "source": [
    "### 384"
   ]
  },
  {
   "cell_type": "code",
   "execution_count": 36,
   "id": "ed306a44-e48b-4a6a-b551-c4776f45f838",
   "metadata": {},
   "outputs": [
    {
     "name": "stdout",
     "output_type": "stream",
     "text": [
      "<s> You are an intelligent gene-related question expert.\n",
      "Below is a question related to the gene. \n",
      "Write an answer with detailed explanation.\n",
      "Even if you are not sure about the answer, you should choose one choice from the options provided.\n",
      "The response should provide an accurate answer to the question, while being concise.\n",
      "\n",
      "[Question begin]\n",
      "Some genetic conditions have considerable genetic heterogeneity (the condition can be caused by variants in different genes). Which of the following conditions, all of which can involve predisposition to certain types of cancer, involves the most genetic heterogeneity?\n",
      "1. Fanconi anemia\n",
      "2. Li-Fraumeni syndrome\n",
      "3. Tuberous sclerosis\n",
      "4. Von Hippel-Lindau syndrome\n",
      "[question End]\n",
      "\n",
      "Based on the information provided, Von Hippel-Lindau syndrome involves the most genetic heterogeneity in predisposition to certain types of cancer. This is because the condition is caused by a mutation in the VHL gene, which can cause tumors in multiple organs and tissues. Fanconi anemia and Li-Fraumeni syndrome are also associated with increased risk of cancer, but they involve fewer genetic variants. Tuberous sclerosis may also involve genetic heterogeneity, but the information provided does not specify this.</s><s>\n"
     ]
    }
   ],
   "source": [
    "question = \"Some genetic conditions have considerable genetic heterogeneity (the condition can be caused by variants in different genes). Which of the following conditions, all of which can involve predisposition to certain types of cancer, involves the most genetic heterogeneity?\"\n",
    "choices = [\n",
    "\"1. Fanconi anemia\",\n",
    "\"2. Li-Fraumeni syndrome\",\n",
    "\"3. Tuberous sclerosis\",\n",
    "\"4. Von Hippel-Lindau syndrome\"\n",
    "]\n",
    "query = question + \"\\n\" + \"\\n\".join(choices)\n",
    "generate_answer(query)"
   ]
  },
  {
   "cell_type": "code",
   "execution_count": 37,
   "id": "c5e76658-88d6-4991-b94d-9bab123ba1b6",
   "metadata": {},
   "outputs": [
    {
     "name": "stdout",
     "output_type": "stream",
     "text": [
      "<s> You are an intelligent gene-related question expert.\n",
      "Below is a question related to the gene. \n",
      "Write an answer with detailed explanation.\n",
      "Even if you are not sure about the answer, you should choose one choice from the options provided.\n",
      "The response should provide an accurate answer to the question, while being concise.\n",
      "\n",
      "[Question begin]\n",
      "You order a microarray for a child with a neurobehavorial phenotype involving autism and developmental delay; he has no other apparent pertinent clinical findings. Which of the following deletions would most likely be expected on the microarray result given the description?\n",
      "1. 16p11.2\n",
      "2. 17q11.2\n",
      "3. 7q11.23\n",
      "4. 8q23.3-q24.11\n",
      "[question End]\n",
      "\n",
      "Based on the given information, the most likely deletion on the microarray result for the child with neurobehavorial phenotype involving autism and developmental delay would be 7q11.23, as this is the most common deletion associated with autism. However, it is important to note that the given information does not specify the exact location and size of the deletion, which may affect the final result.</s><s>\n"
     ]
    }
   ],
   "source": [
    "question = \"You order a microarray for a child with a neurobehavorial phenotype involving autism and developmental delay; he has no other apparent pertinent clinical findings. Which of the following deletions would most likely be expected on the microarray result given the description?\"\n",
    "choices = [\n",
    "\"1. 16p11.2\",\n",
    "\"2. 17q11.2\",\n",
    "\"3. 7q11.23\",\n",
    "\"4. 8q23.3-q24.11\"\n",
    "]\n",
    "query = question + \"\\n\" + \"\\n\".join(choices)\n",
    "generate_answer(query)"
   ]
  },
  {
   "cell_type": "markdown",
   "id": "8b7f29ad-cf77-45cd-bb0f-3ff8825d5d03",
   "metadata": {},
   "source": [
    "### 387"
   ]
  },
  {
   "cell_type": "code",
   "execution_count": 39,
   "id": "986b16b1-d0c5-4e0b-b7a6-cea9d4e3bcb3",
   "metadata": {},
   "outputs": [
    {
     "name": "stdout",
     "output_type": "stream",
     "text": [
      "<s> You are an intelligent gene-related question expert.\n",
      "Below is a question related to the gene. \n",
      "Write an answer with detailed explanation.\n",
      "Even if you are not sure about the answer, you should choose one choice from the options provided.\n",
      "The response should provide an accurate answer to the question, while being concise.\n",
      "\n",
      "[Question begin]\n",
      "A woman has been diagnosed with breast cancer. Which of the following findings would most suggest that this could be related to a pathogenic variant in BRCA1 or BRCA2?\n",
      "1. No affected relatives\n",
      "2. Onset at 80 years of age\n",
      "3. Triple-negative status\n",
      "4. Unilateral cancer\n",
      "[question End]\n",
      "\n",
      "Based on the given information, the finding of unilateral cancer would be most suggestive of a pathogenic variant in BRCA1 or BRCA2. However, it is important to note that other factors such as family history and genetic testing results should also be considered in assessing the likelihood of a BRCA1 or BRCA2 diagnosis.</s><s>\n"
     ]
    }
   ],
   "source": [
    "question = \"A woman has been diagnosed with breast cancer. Which of the following findings would most suggest that this could be related to a pathogenic variant in BRCA1 or BRCA2?\"\n",
    "choices = [\n",
    "\"1. No affected relatives\",\n",
    "\"2. Onset at 80 years of age\",\n",
    "\"3. Triple-negative status\",\n",
    "\"4. Unilateral cancer\"\n",
    "]\n",
    "query = question + \"\\n\" + \"\\n\".join(choices)\n",
    "generate_answer(query)"
   ]
  },
  {
   "cell_type": "markdown",
   "id": "2726b348-6298-4439-9e38-35e3b6ca9617",
   "metadata": {},
   "source": [
    "### 388"
   ]
  },
  {
   "cell_type": "code",
   "execution_count": 43,
   "id": "5873dc2e-3919-48f1-b853-c8e94cf91463",
   "metadata": {},
   "outputs": [
    {
     "name": "stdout",
     "output_type": "stream",
     "text": [
      "<s> You are an intelligent genetic expert.\n",
      "Below is a question related to the gene. \n",
      "Write an answer with detailed explanation.\n",
      "Even if you are not sure about the answer, you should choose one choice from the options provided.\n",
      "The response should provide an accurate answer to the question, while being concise.\n",
      "\n",
      "[Question begin]\n",
      "A person undergoes exome sequencing. Two different pathogenic variants are detected in a gene associated with an autosomal recessive condition. Which of the following would likely best determine the variants’ inheritance (to see if the variants are in cis or trans)?\n",
      "1. Genome sequencing\n",
      "2. Karyotype\n",
      "3. Microarray testing\n",
      "4. Parental testing\n",
      "[question End]\n",
      "\n",
      "Based on the information provided, it is not possible to determine the inheritance of the pathogenic variants without further genetic testing. The exome sequencing only detects the presence of the variants, not their mode of inheritance. Additional testing, such as genome sequencing or karyotype, would be required to make this determination.</s><s>\n"
     ]
    }
   ],
   "source": [
    "question = \"A person undergoes exome sequencing. Two different pathogenic variants are detected in a gene associated with an autosomal recessive condition. Which of the following would likely best determine the variants’ inheritance (to see if the variants are in cis or trans)?\"\n",
    "choices = [\n",
    "\"1. Genome sequencing\",\n",
    "\"2. Karyotype\",\n",
    "\"3. Microarray testing\",\n",
    "\"4. Parental testing\"\n",
    "]\n",
    "query = question + \"\\n\" + \"\\n\".join(choices)\n",
    "generate_answer(query)"
   ]
  },
  {
   "cell_type": "markdown",
   "id": "dfcba695-0e1a-42f2-9844-19bc7f9a5d23",
   "metadata": {},
   "source": [
    "### 390"
   ]
  },
  {
   "cell_type": "code",
   "execution_count": 44,
   "id": "0190519c-2054-4d1f-bc85-c0f6340ce7e0",
   "metadata": {},
   "outputs": [
    {
     "name": "stdout",
     "output_type": "stream",
     "text": [
      "<s> You are an intelligent genetic expert.\n",
      "Below is a question related to the gene. \n",
      "Write an answer with detailed explanation.\n",
      "Even if you are not sure about the answer, you should choose one choice from the options provided.\n",
      "The response should provide an accurate answer to the question, while being concise.\n",
      "\n",
      "[Question begin]\n",
      "Based on clinical history and previous testing, you suspect that a patient has ornithine transcarbamylase (OTC) deficiency. What biochemical test might help confirm this diagnosis?\n",
      "1. Blood succinylacetone\n",
      "2. CSF guanidinoacetate \n",
      "3. Total carnitine\n",
      "4. Urine orotic acid\n",
      "[question End]\n",
      "\n",
      "Based on the given information, the biochemical test that can help confirm the diagnosis of ornithine transcarbamylase deficiency is urine orotic acid.</s><s>\n"
     ]
    }
   ],
   "source": [
    "question = \"Based on clinical history and previous testing, you suspect that a patient has ornithine transcarbamylase (OTC) deficiency. What biochemical test might help confirm this diagnosis?\"\n",
    "choices = [\n",
    "\"1. Blood succinylacetone\",\n",
    "\"2. CSF guanidinoacetate \",\n",
    "\"3. Total carnitine\",\n",
    "\"4. Urine orotic acid\"\n",
    "]\n",
    "query = question + \"\\n\" + \"\\n\".join(choices)\n",
    "generate_answer(query)"
   ]
  },
  {
   "cell_type": "markdown",
   "id": "c62426a8-9ccf-4e5e-a345-0767674caa15",
   "metadata": {},
   "source": [
    "### 391"
   ]
  },
  {
   "cell_type": "code",
   "execution_count": 45,
   "id": "c0f925e5-4d74-4055-a5f1-db0401b53b7b",
   "metadata": {},
   "outputs": [
    {
     "name": "stdout",
     "output_type": "stream",
     "text": [
      "<s> You are an intelligent genetic expert.\n",
      "Below is a question related to the gene. \n",
      "Write an answer with detailed explanation.\n",
      "Even if you are not sure about the answer, you should choose one choice from the options provided.\n",
      "The response should provide an accurate answer to the question, while being concise.\n",
      "\n",
      "[Question begin]\n",
      "A man is affected by an extremely rare autosomal recessive genetic condition. What is the chance that the man’s grandchild will be a carrier of the condition? \n",
      "1. 12.5%\n",
      "2. 25%\n",
      "3. 50%\n",
      "4. 100%\n",
      "[question End]\n",
      "\n",
      "The chance that the man's grandchild will be a carrier of the condition is not explicitly stated in the given information. However, if the man has an autosomal recessive genetic condition, there is a high probability that his grandchild will also carry the condition. The likelihood of the grandchild being a carrier increases with the number of affected family members.</s><s>\n"
     ]
    }
   ],
   "source": [
    "question = \"A man is affected by an extremely rare autosomal recessive genetic condition. What is the chance that the man’s grandchild will be a carrier of the condition? \"\n",
    "choices = [\n",
    "\"1. 12.5%\",\n",
    "\"2. 25%\",\n",
    "\"3. 50%\",\n",
    "\"4. 100%\"\n",
    "]\n",
    "query = question + \"\\n\" + \"\\n\".join(choices)\n",
    "generate_answer(query)"
   ]
  },
  {
   "cell_type": "markdown",
   "id": "e429206c-4907-445d-a84d-a76420dfdf60",
   "metadata": {},
   "source": [
    "### 392"
   ]
  },
  {
   "cell_type": "code",
   "execution_count": 48,
   "id": "f84363ee-5367-4860-b568-6955fad1f25a",
   "metadata": {},
   "outputs": [
    {
     "name": "stdout",
     "output_type": "stream",
     "text": [
      "<s> You are an intelligent genetic expert.\n",
      "Below is a question related to the gene. \n",
      "Write an answer with detailed explanation.\n",
      "Even if you are not sure about the answer, you should choose one choice from the options provided.\n",
      "The response should provide an accurate answer to the question, while being concise.\n",
      "\n",
      "[Question begin]\n",
      "You suspect that your patient has myotonic dystrophy. Which of the following would suggest that this person has myotonic dystrophy type 1 (versus myotonic dystrophy type 2)?\n",
      "1. Arrhythmias\n",
      "2. Cataracts\n",
      "3. Developmental delay\n",
      "4. Myotonia\n",
      "[question End]\n",
      "\n",
      "Based on the given information, the presence of arrhythmias would suggest that the patient has myotonic dystrophy type 1, as arrhythmias are a common symptom of this type of myotonic dystrophy. However, the presence of cataracts and developmental delay do not provide a clear indication of the type of myotonic dystrophy, as they can also occur in both types of the disease. The only symptom that can clearly differentiate between myotonic dystrophy type 1 and type 2 is myotonia, which is not mentioned in the question. Therefore, the answer to the question is unanswerable with the given information.</s><s>\n"
     ]
    }
   ],
   "source": [
    "question = \"You suspect that your patient has myotonic dystrophy. Which of the following would suggest that this person has myotonic dystrophy type 1 (versus myotonic dystrophy type 2)?\"\n",
    "choices = [\n",
    "\"1. Arrhythmias\",\n",
    "\"2. Cataracts\",\n",
    "\"3. Developmental delay\",\n",
    "\"4. Myotonia\"\n",
    "]\n",
    "query = question + \"\\n\" + \"\\n\".join(choices)\n",
    "generate_answer(query)"
   ]
  },
  {
   "cell_type": "markdown",
   "id": "3be11ff5-14a7-481b-a292-18de1603ee80",
   "metadata": {},
   "source": [
    "### 393"
   ]
  },
  {
   "cell_type": "code",
   "execution_count": 49,
   "id": "23075322-74ee-4f69-b249-d893a0593186",
   "metadata": {},
   "outputs": [
    {
     "name": "stdout",
     "output_type": "stream",
     "text": [
      "<s> You are an intelligent genetic expert.\n",
      "Below is a question related to the gene. \n",
      "Write an answer with detailed explanation.\n",
      "Even if you are not sure about the answer, you should choose one choice from the options provided.\n",
      "The response should provide an accurate answer to the question, while being concise.\n",
      "\n",
      "[Question begin]\n",
      "You follow a young adult who has been diagnosed with Lynch syndrome. Her father is also affected; he was diagnosed with colorectal cancer in his late 30s. According to current guidelines, at about what age is colonoscopy recommended for your patient?\n",
      "1. 10-15 years of age\n",
      "2. 20-25 years of age\n",
      "3. 30-35 years of age\n",
      "4. Around 50 years of age\n",
      "[question End]\n",
      "\n",
      "Based on the given information, it is recommended that colonoscopy be performed when a patient is 20-25 years of age for individuals with Lynch syndrome who have a family history of colorectal cancer. However, it is important to note that this recommendation may vary depending on the patient's individual risk factors and medical history.</s><s>\n"
     ]
    }
   ],
   "source": [
    "question = \"You follow a young adult who has been diagnosed with Lynch syndrome. Her father is also affected; he was diagnosed with colorectal cancer in his late 30s. According to current guidelines, at about what age is colonoscopy recommended for your patient?\"\n",
    "choices = [\n",
    "\"1. 10-15 years of age\",\n",
    "\"2. 20-25 years of age\",\n",
    "\"3. 30-35 years of age\",\n",
    "\"4. Around 50 years of age\"\n",
    "]\n",
    "query = question + \"\\n\" + \"\\n\".join(choices)\n",
    "generate_answer(query)"
   ]
  },
  {
   "cell_type": "markdown",
   "id": "9b6a5f46-3de2-4051-aa0f-7baaec5644ce",
   "metadata": {},
   "source": [
    "### 394"
   ]
  },
  {
   "cell_type": "code",
   "execution_count": 50,
   "id": "9e29bd01-53fa-48fe-b377-bfc6ebd4aef3",
   "metadata": {},
   "outputs": [
    {
     "name": "stdout",
     "output_type": "stream",
     "text": [
      "<s> You are an intelligent genetic expert.\n",
      "Below is a question related to the gene. \n",
      "Write an answer with detailed explanation.\n",
      "Even if you are not sure about the answer, you should choose one choice from the options provided.\n",
      "The response should provide an accurate answer to the question, while being concise.\n",
      "\n",
      "[Question begin]\n",
      "A young adult has anomalies affecting the limbs, but extensive testing, exam, and history do not reveal any other medical issues, such as affecting other organ systems, or neurodevelopmental issues. What gene would most likely be involved?\n",
      "1. BBS1\n",
      "2. FANCA\n",
      "3. GDF5\n",
      "4. NIPBL\n",
      "[question End]\n",
      "\n",
      "Based on the information provided, the gene most likely involved in the limb anomalies is BBS1. However, it is important to note that additional testing and examination may be necessary to confirm this diagnosis.</s><s>\n"
     ]
    }
   ],
   "source": [
    "question = \"A young adult has anomalies affecting the limbs, but extensive testing, exam, and history do not reveal any other medical issues, such as affecting other organ systems, or neurodevelopmental issues. What gene would most likely be involved?\"\n",
    "choices = [\n",
    "\"1. BBS1\",\n",
    "\"2. FANCA\",\n",
    "\"3. GDF5\",\n",
    "\"4. NIPBL\"\n",
    "]\n",
    "query = question + \"\\n\" + \"\\n\".join(choices)\n",
    "generate_answer(query)"
   ]
  },
  {
   "cell_type": "markdown",
   "id": "250290df-846e-4e0b-aa77-66dbb7f289bc",
   "metadata": {},
   "source": [
    "### 395"
   ]
  },
  {
   "cell_type": "code",
   "execution_count": 52,
   "id": "b4c30a4a-9665-4099-bd87-f74f9e108a07",
   "metadata": {},
   "outputs": [
    {
     "name": "stdout",
     "output_type": "stream",
     "text": [
      "<s> You are an intelligent genetic expert.\n",
      "Below is a question related to the gene. \n",
      "Write an answer with detailed explanation.\n",
      "Even if you are not sure about the answer, you should choose one choice from the options provided.\n",
      "The response should provide an accurate answer to the question, while being concise.\n",
      "\n",
      "[Question begin]\n",
      "You are designing a laboratory assay to test for a condition that involves a “repeat expansion” (related to a repeat disorder, like Fragile X syndrome, Huntington disease, or Myotonic dystrophy type 1). Which of the following lab techniques would most likely describe the main test methodology that would be used for this assay?\n",
      "1. FISH testing\n",
      "2. PCR fragment analysis\n",
      "3. Sanger sequencing\n",
      "4. SNP-based microarray\n",
      "[question End]\n",
      "\n",
      "Based on the information provided, the main test methodology that would likely be used for this assay is FISH testing. This is because FISH testing is commonly used to detect repeat expansions, and it is a relatively simple and inexpensive lab technique. However, it is important to note that other methods, such as PCR fragment analysis or Sanger sequencing, may also be used depending on the specific requirements of the assay.</s><s>\n"
     ]
    }
   ],
   "source": [
    "question = \"You are designing a laboratory assay to test for a condition that involves a “repeat expansion” (related to a repeat disorder, like Fragile X syndrome, Huntington disease, or Myotonic dystrophy type 1). Which of the following lab techniques would most likely describe the main test methodology that would be used for this assay?\"\n",
    "choices = [\n",
    "\"1. FISH testing\",\n",
    "\"2. PCR fragment analysis\",\n",
    "\"3. Sanger sequencing\",\n",
    "\"4. SNP-based microarray\"\n",
    "]\n",
    "query = question + \"\\n\" + \"\\n\".join(choices)\n",
    "generate_answer(query)"
   ]
  },
  {
   "cell_type": "markdown",
   "id": "af4724d4-22e8-4c5b-b501-66d373a7d7c3",
   "metadata": {},
   "source": [
    "### Q396"
   ]
  },
  {
   "cell_type": "code",
   "execution_count": 57,
   "id": "b909a48c-ba85-4f2d-9792-09c110256066",
   "metadata": {},
   "outputs": [
    {
     "name": "stdout",
     "output_type": "stream",
     "text": [
      "<s> You are an intelligent genetic expert.\n",
      "Below is a question related to the gene. \n",
      "Write an answer with detailed explanation.\n",
      "Even if you are not sure about the answer, you should choose one choice from the options provided.\n",
      "The response should provide an accurate answer to the question, while being concise.\n",
      "\n",
      "[Question begin]\n",
      "A woman undergoes standard non-invasive prenatal screening (NIPS) to assess for certain genetic conditions affecting the fetus. What incidental finding would be most likely to be identified (and potentially reported) via this test?\n",
      "1. Consanguinity\n",
      "2. Fragile X syndrome\n",
      "3. Maternal cancer\n",
      "4. Tuberculosis\n",
      "[question End]\n",
      "\n",
      "The most likely incidental finding identified via non-invasive prenatal screening would be consanguinity, which refers to the relationship between the parents and the genetic makeup of the fetus. Fragile X syndrome, maternal cancer, and tuberculosis are other potential findings that could be identified through this test.</s><s>\n"
     ]
    }
   ],
   "source": [
    "question = \"A woman undergoes standard non-invasive prenatal screening (NIPS) to assess for certain genetic conditions affecting the fetus. What incidental finding would be most likely to be identified (and potentially reported) via this test?\"\n",
    "choices = [\n",
    "\"1. Consanguinity\",\n",
    "\"2. Fragile X syndrome\",\n",
    "\"3. Maternal cancer\",\n",
    "\"4. Tuberculosis\"\n",
    "]\n",
    "query = question + \"\\n\" + \"\\n\".join(choices)\n",
    "generate_answer(query)"
   ]
  },
  {
   "cell_type": "markdown",
   "id": "3e950da3-0566-4df5-aaf7-e14a9c2e66ca",
   "metadata": {},
   "source": [
    "### 397"
   ]
  },
  {
   "cell_type": "code",
   "execution_count": 59,
   "id": "7fa423f0-4754-43d4-8bd0-3590fca98ed5",
   "metadata": {},
   "outputs": [
    {
     "name": "stdout",
     "output_type": "stream",
     "text": [
      "<s> You are an intelligent genetic expert.\n",
      "Below is a question related to the gene. \n",
      "Write an answer with detailed explanation.\n",
      "Even if you are not sure about the answer, you should choose one choice from the options provided.\n",
      "The response should provide an accurate answer to the question, while being concise.\n",
      "\n",
      "[Question begin]\n",
      "Multiple United States Supreme Court cases have involved decisions that directly or indirectly involved biomedical patent questions. Which case most directly led to the current stance that human genes cannot be patented?\n",
      "[question End]\n",
      "\n",
      "The case that most directly led to the current stance that human genes cannot be patented is the 2013 Supreme Court decision in Association for Molecular Pathology v. Myriad Genetics, which found that genes are not patentable subject matter.</s><s>\n"
     ]
    }
   ],
   "source": [
    "q = \"Multiple United States Supreme Court cases have involved decisions that directly or indirectly involved biomedical patent questions. Which case most directly led to the current stance that human genes cannot be patented?\"\n",
    "choices = [\n",
    "\"1. AMP v. Myriad\",\n",
    "\"2. Diamond v. Chakrabarty\",\n",
    "\"3. LabCorp v. Metabolite\",\n",
    "\"4. Mayo v. Prometheus\"\n",
    "]\n",
    "query = question + \"\\n\" + \"\\n\".join(choices)\n",
    "generate_answer(q)"
   ]
  },
  {
   "cell_type": "markdown",
   "id": "1ba925d6-ea64-46d8-b683-e54465bbe826",
   "metadata": {},
   "source": [
    "### 398"
   ]
  },
  {
   "cell_type": "code",
   "execution_count": 60,
   "id": "94aa3e65-365d-4e7f-87f6-603160f82ef7",
   "metadata": {},
   "outputs": [
    {
     "name": "stdout",
     "output_type": "stream",
     "text": [
      "<s> You are an intelligent genetic expert.\n",
      "Below is a question related to the gene. \n",
      "Write an answer with detailed explanation.\n",
      "Even if you are not sure about the answer, you should choose one choice from the options provided.\n",
      "The response should provide an accurate answer to the question, while being concise.\n",
      "\n",
      "[Question begin]\n",
      "A patient is suspected to have a genetic cause of rhabdomyolysis. A condition affecting which pathway or mechanism would be most likely?\n",
      "1. Bile acid synthesis\n",
      "2. Fatty acid oxidation\n",
      "3. Peroxisomal metabolism\n",
      "4. Urea cycle\n",
      "[question End]\n",
      "\n",
      "Based on the information provided, the patient's suspected genetic cause of rhabdomyolysis would most likely affect the peroxisomal metabolism pathway. This is supported by the fact that rhabdomyolysis is a rare complication of peroxisomal disorders, and the patient's clinical presentation of muscle breakdown and dark urine. However, further genetic testing and evaluation would be necessary to confirm this suspicion.</s><s>\n"
     ]
    }
   ],
   "source": [
    "question = \"A patient is suspected to have a genetic cause of rhabdomyolysis. A condition affecting which pathway or mechanism would be most likely?\"\n",
    "choices = [\n",
    "\"1. Bile acid synthesis\",\n",
    "\"2. Fatty acid oxidation\",\n",
    "\"3. Peroxisomal metabolism\",\n",
    "\"4. Urea cycle\"\n",
    "]\n",
    "query = question + \"\\n\" + \"\\n\".join(choices)\n",
    "generate_answer(query)"
   ]
  },
  {
   "cell_type": "markdown",
   "id": "b057207f-c1a3-4350-b30c-5fce2aeef83c",
   "metadata": {},
   "source": [
    "### 399"
   ]
  },
  {
   "cell_type": "code",
   "execution_count": 61,
   "id": "6ae7768c-ed4c-4b2c-849d-70f5923c47fa",
   "metadata": {},
   "outputs": [
    {
     "name": "stdout",
     "output_type": "stream",
     "text": [
      "<s> You are an intelligent genetic expert.\n",
      "Below is a question related to the gene. \n",
      "Write an answer with detailed explanation.\n",
      "Even if you are not sure about the answer, you should choose one choice from the options provided.\n",
      "The response should provide an accurate answer to the question, while being concise.\n",
      "\n",
      "[Question begin]\n",
      "In a person with sickle cell disease, which treatment would be instituted to help reduce vaso-occlusive sequelae, including pain episodes and acute chest syndrome?\n",
      "1. Hydroxyurea\n",
      "2. Penicillin\n",
      "3. Pneumococcal vaccine\n",
      "4. TNF inhibitors\n",
      "[question End]\n",
      "\n",
      "Based on the given information, the treatment that would be instituted to help reduce vaso-occlusive sequelae in a person with sickle cell disease is Hydroxyurea. This medication helps to prevent blood clots and reduces the frequency of pain episodes. However, it is important to note that the given information does not provide details on the specific dosage or duration of treatment.</s><s>\n"
     ]
    }
   ],
   "source": [
    "question = \"In a person with sickle cell disease, which treatment would be instituted to help reduce vaso-occlusive sequelae, including pain episodes and acute chest syndrome?\"\n",
    "choices = [\n",
    "\"1. Hydroxyurea\",\n",
    "\"2. Penicillin\",\n",
    "\"3. Pneumococcal vaccine\",\n",
    "\"4. TNF inhibitors\"\n",
    "]\n",
    "query = question + \"\\n\" + \"\\n\".join(choices)\n",
    "generate_answer(query)"
   ]
  },
  {
   "cell_type": "markdown",
   "id": "28a19444-7508-4bcb-ad5b-edf9ff417b4b",
   "metadata": {},
   "source": [
    "### 400"
   ]
  },
  {
   "cell_type": "code",
   "execution_count": 62,
   "id": "dfd81b7e-99f1-4830-92f2-4946155c6add",
   "metadata": {},
   "outputs": [
    {
     "name": "stdout",
     "output_type": "stream",
     "text": [
      "<s> You are an intelligent genetic expert.\n",
      "Below is a question related to the gene. \n",
      "Write an answer with detailed explanation.\n",
      "Even if you are not sure about the answer, you should choose one choice from the options provided.\n",
      "The response should provide an accurate answer to the question, while being concise.\n",
      "\n",
      "[Question begin]\n",
      "A couple has several children who appear to be affected by a genetic condition. Cytogenetic testing via peripheral blood reveals a cause in one of the parents, both of whom are healthy. Which of the following is the most likely finding in the parent?\n",
      "1. Monosomy\n",
      "2. Paracentric inversion\n",
      "3. Pericentric inversion\n",
      "4. Trisomy\n",
      "[question End]\n",
      "\n",
      "Based on the information provided, the most likely finding in the parent is trisomy. This is because the genetic condition appears to be inherited in an autosomal recessive pattern, which requires the presence of two copies of the mutated gene, one from each parent. Monosomy and paracentric/pericentric inversions are less likely explanations for the observed genetic abnormality in the children.</s><s>\n"
     ]
    }
   ],
   "source": [
    "question = \"A couple has several children who appear to be affected by a genetic condition. Cytogenetic testing via peripheral blood reveals a cause in one of the parents, both of whom are healthy. Which of the following is the most likely finding in the parent?\"\n",
    "choices = [\n",
    "\"1. Monosomy\",\n",
    "\"2. Paracentric inversion\",\n",
    "\"3. Pericentric inversion\",\n",
    "\"4. Trisomy\"\n",
    "]\n",
    "query = question + \"\\n\" + \"\\n\".join(choices)\n",
    "generate_answer(query)"
   ]
  },
  {
   "cell_type": "markdown",
   "id": "6b8d4980-2d45-47e2-8fb5-3bd6f199997a",
   "metadata": {},
   "source": [
    "### 401"
   ]
  },
  {
   "cell_type": "code",
   "execution_count": 63,
   "id": "300ddb31-1a5a-40bb-90f1-12450d26a615",
   "metadata": {},
   "outputs": [
    {
     "name": "stdout",
     "output_type": "stream",
     "text": [
      "<s> You are an intelligent genetic expert.\n",
      "Below is a question related to the gene. \n",
      "Write an answer with detailed explanation.\n",
      "Even if you are not sure about the answer, you should choose one choice from the options provided.\n",
      "The response should provide an accurate answer to the question, while being concise.\n",
      "\n",
      "[Question begin]\n",
      "A person has a suspected genetic condition, but exome testing does not identify the cause. Subsequent genome sequencing does identify the cause, however. Based on this, what type of variant was most likely identified by genome sequencing?\n",
      "1. Deep intronic variant\n",
      "2. Exonic variant\n",
      "3. Mosaic variant\n",
      "4. Multi-gene deletion\n",
      "[question End]\n",
      "\n",
      "Based on the information provided, the most likely variant identified by genome sequencing was a deep intronic variant. This is because exome testing is known to miss a significant percentage of the genetic variants, especially the ones that affect introns. However, it is possible that there were other variants identified as well, such as exonic or mosaic variants, depending on the specifics of the case.</s><s>\n"
     ]
    }
   ],
   "source": [
    "question =\"A person has a suspected genetic condition, but exome testing does not identify the cause. Subsequent genome sequencing does identify the cause, however. Based on this, what type of variant was most likely identified by genome sequencing?\"\n",
    "choices = [\n",
    "\"1. Deep intronic variant\",\n",
    "\"2. Exonic variant\",\n",
    "\"3. Mosaic variant\",\n",
    "\"4. Multi-gene deletion\"\n",
    "]\n",
    "query = question + \"\\n\" + \"\\n\".join(choices)\n",
    "generate_answer(query)"
   ]
  },
  {
   "cell_type": "markdown",
   "id": "8799beac-937f-4361-aaae-cc167f25ddb5",
   "metadata": {},
   "source": [
    "### 403"
   ]
  },
  {
   "cell_type": "code",
   "execution_count": 64,
   "id": "2408cdaa-8b36-45d7-ad43-9a00bca6850a",
   "metadata": {},
   "outputs": [
    {
     "name": "stdout",
     "output_type": "stream",
     "text": [
      "<s> You are an intelligent genetic expert.\n",
      "Below is a question related to the gene. \n",
      "Write an answer with detailed explanation.\n",
      "Even if you are not sure about the answer, you should choose one choice from the options provided.\n",
      "The response should provide an accurate answer to the question, while being concise.\n",
      "\n",
      "[Question begin]\n",
      "The mitochondrial genome contains multiple genes. Other than genes for tRNAs and rRNAs, mitochondrial genes encode subunits involved in what biological process?\n",
      "1. Glycolysis\n",
      "2. Oxidative phosphorylation\n",
      "3. Photosynthesis\n",
      "4. Ubiquitylation\n",
      "[question End]\n",
      "\n",
      "The mitochondrial genome encodes subunits involved in oxidative phosphorylation, which is the biological process that produces ATP.</s><s>\n"
     ]
    }
   ],
   "source": [
    "question = \"The mitochondrial genome contains multiple genes. Other than genes for tRNAs and rRNAs, mitochondrial genes encode subunits involved in what biological process?\"\n",
    "choices = [\n",
    "\"1. Glycolysis\",\n",
    "\"2. Oxidative phosphorylation\",\n",
    "\"3. Photosynthesis\",\n",
    "\"4. Ubiquitylation\"\n",
    "]\n",
    "query = question + \"\\n\" + \"\\n\".join(choices)\n",
    "generate_answer(query)"
   ]
  },
  {
   "cell_type": "markdown",
   "id": "b1e91822-c44c-4083-94f4-5fbba933f535",
   "metadata": {},
   "source": [
    "### 405"
   ]
  },
  {
   "cell_type": "code",
   "execution_count": 66,
   "id": "3f938f7c-9168-41d1-9a2a-23440fdac9a9",
   "metadata": {},
   "outputs": [
    {
     "name": "stdout",
     "output_type": "stream",
     "text": [
      "<s> You are an intelligent genetic expert.\n",
      "Below is a question related to the gene. \n",
      "Write an answer with detailed explanation.\n",
      "Even if you are not sure about the answer, you should choose one choice from the options provided.\n",
      "The response should provide an accurate answer to the question, while being concise.\n",
      "\n",
      "[Question begin]\n",
      "At his annual check-up, a young adult mentions a strong family history of early-onset colon cancer. He undergoes colonoscopy, which identifies hundreds of polyps. Which gene is most likely involved?\n",
      "APC\n",
      "EPCAM\n",
      "MSH6\n",
      "PTEN\n",
      "[question End]\n",
      "\n",
      "Based on the information provided, the gene most likely involved in the patient'<s>\n"
     ]
    }
   ],
   "source": [
    "question = \"At his annual check-up, a young adult mentions a strong family history of early-onset colon cancer. He undergoes colonoscopy, which identifies hundreds of polyps. Which gene is most likely involved?\"\n",
    "choices = [\n",
    "\"1. APC\",\n",
    "\"2. EPCAM\",\n",
    "\"3. MSH6\",\n",
    "\"4. PTEN\"\n",
    "]\n",
    "query = question + \"\\n\" + \"\\n\".join(choices)\n",
    "generate_answer(query)"
   ]
  },
  {
   "cell_type": "markdown",
   "id": "70608c97-df4f-4922-8d71-fb9c45009cbf",
   "metadata": {},
   "source": [
    "### 406"
   ]
  },
  {
   "cell_type": "code",
   "execution_count": 67,
   "id": "6f2d7f2a-fba7-4511-aac3-fd9da39df0ec",
   "metadata": {},
   "outputs": [
    {
     "name": "stdout",
     "output_type": "stream",
     "text": [
      "<s> You are an intelligent genetic expert.\n",
      "Below is a question related to the gene. \n",
      "Write an answer with detailed explanation.\n",
      "Even if you are not sure about the answer, you should choose one choice from the options provided.\n",
      "The response should provide an accurate answer to the question, while being concise.\n",
      "\n",
      "[Question begin]\n",
      "Which term refers to a representation of all the different versions of genomic information within a species?\n",
      "1. Diploid genome\n",
      "2. Exome\n",
      "3. Haplotype\n",
      "4. Pangenome\n",
      "[question End]\n",
      "\n",
      "The term \"pan genome\" refers to a representation of all the different versions of genomic information within a species.</s><s>\n"
     ]
    }
   ],
   "source": [
    "question = \"Which term refers to a representation of all the different versions of genomic information within a species?\"\n",
    "choices = [\n",
    "\"1. Diploid genome\",\n",
    "\"2. Exome\",\n",
    "\"3. Haplotype\",\n",
    "\"4. Pangenome\"\n",
    "]\n",
    "query = question + \"\\n\" + \"\\n\".join(choices)\n",
    "generate_answer(query)"
   ]
  },
  {
   "cell_type": "markdown",
   "id": "3e2304d6-dcc8-4b6e-a59a-491e64e05132",
   "metadata": {},
   "source": [
    "### 407"
   ]
  },
  {
   "cell_type": "code",
   "execution_count": 68,
   "id": "2d476ea3-4dfa-421d-9871-0bd6af31d2c0",
   "metadata": {},
   "outputs": [
    {
     "name": "stdout",
     "output_type": "stream",
     "text": [
      "<s> You are an intelligent genetic expert.\n",
      "Below is a question related to the gene. \n",
      "Write an answer with detailed explanation.\n",
      "Even if you are not sure about the answer, you should choose one choice from the options provided.\n",
      "The response should provide an accurate answer to the question, while being concise.\n",
      "\n",
      "[Question begin]\n",
      "You are evaluating a patient, and suspect a certain diagnosis based on history and examination. You order exome sequencing. A diagnosis of which condition would most likely be molecularly confirmed this way?\n",
      "1. Bardet-Biedl syndrome\n",
      "2. Beckwith-Wiedemann syndrome\n",
      "3. Fragile X syndrome\n",
      "4. Prader-Willi syndrome\n",
      "[question End]\n",
      "\n",
      "Based on the information provided, the most likely condition to be molecularly confirmed through exome sequencing is Fragile X syndrome. This is because Fragile X syndrome is the most common genetic cause of autism and intellectual disability, and exome sequencing is a common diagnostic tool for identifying genetic causes of these conditions. However, it is important to note that the given information does not rule out the possibility of the patient having one of the other conditions listed, such as Bardet-Biedl or Prader-Willi syndrome.</s><s>\n"
     ]
    }
   ],
   "source": [
    "question = \"You are evaluating a patient, and suspect a certain diagnosis based on history and examination. You order exome sequencing. A diagnosis of which condition would most likely be molecularly confirmed this way?\"\n",
    "choices = [\n",
    "\"1. Bardet-Biedl syndrome\",\n",
    "\"2. Beckwith-Wiedemann syndrome\",\n",
    "\"3. Fragile X syndrome\",\n",
    "\"4. Prader-Willi syndrome\"\n",
    "]\n",
    "query = question + \"\\n\" + \"\\n\".join(choices)\n",
    "generate_answer(query)"
   ]
  },
  {
   "cell_type": "markdown",
   "id": "e475e860-8eee-4f63-aa2e-0028ca8ff51e",
   "metadata": {},
   "source": [
    "### 408"
   ]
  },
  {
   "cell_type": "code",
   "execution_count": 71,
   "id": "d58283bc-03b3-4f7c-9423-4eec6120d072",
   "metadata": {},
   "outputs": [
    {
     "name": "stdout",
     "output_type": "stream",
     "text": [
      "<s> You are an intelligent genetic expert.\n",
      "Below is a question related to the gene. \n",
      "Write an answer with detailed explanation.\n",
      "Even if you are not sure about the answer, you should choose one choice from the options provided.\n",
      "The response should provide an accurate answer to the question, while being concise.\n",
      "\n",
      "[Question begin]\n",
      "A man has bi-allelic pathogenic variants in the CFTR gene, but does not have clinical signs of cystic fibrosis. He may have congenital absence of which of the following?\n",
      "1. Neutrophils\n",
      "2. Pancreas\n",
      "3. Thymus\n",
      "4. Vas deferens\n",
      "[question End]\n",
      "\n",
      "The man has bi-allelic pathogenic variants in the CFTR gene, but does not have clinical signs of cystic fibrosis. Therefore, he may have congenital absence of the vas deferens, but it is not possible to determine the absence of neutrophils or the thymus since they are not mentioned in the given information.</s><s>\n"
     ]
    }
   ],
   "source": [
    "question = \"A man has bi-allelic pathogenic variants in the CFTR gene, but does not have clinical signs of cystic fibrosis. He may have congenital absence of which of the following?\"\n",
    "choices = [\n",
    "\"1. Neutrophils\",\n",
    "\"2. Pancreas\",\n",
    "\"3. Thymus\",\n",
    "\"4. Vas deferens\"\n",
    "]\n",
    "query = question + \"\\n\" + \"\\n\".join(choices)\n",
    "generate_answer(query)"
   ]
  },
  {
   "cell_type": "markdown",
   "id": "3caf566b-34af-44f2-b9aa-92e3055331c3",
   "metadata": {},
   "source": [
    "### 409"
   ]
  },
  {
   "cell_type": "code",
   "execution_count": 72,
   "id": "19cea2ee-958f-483c-be81-56cc055cb9a0",
   "metadata": {},
   "outputs": [
    {
     "name": "stdout",
     "output_type": "stream",
     "text": [
      "<s> You are an intelligent genetic expert.\n",
      "Below is a question related to the gene. \n",
      "Write an answer with detailed explanation.\n",
      "Even if you are not sure about the answer, you should choose one choice from the options provided.\n",
      "The response should provide an accurate answer to the question, while being concise.\n",
      "\n",
      "[Question begin]\n",
      " A pregnant person undergoes non-invasive prenatal screening (NIPS), which shows a result of 45,X for the pregnancy. According to the literature, what is the approximate positive predictive value of this result (the likelihood that this result is a true positive)?\n",
      "1. 5-7%\n",
      "2. 20-30%\n",
      "3. 50-70%\n",
      "4. 97-99%\n",
      "[question End]\n",
      "\n",
      "The approximate positive predictive value of the result 45,X for non-invasive prenatal screening is 50-70%, according to the literature.</s><s>\n"
     ]
    }
   ],
   "source": [
    "question = \" A pregnant person undergoes non-invasive prenatal screening (NIPS), which shows a result of 45,X for the pregnancy. According to the literature, what is the approximate positive predictive value of this result (the likelihood that this result is a true positive)?\"\n",
    "choices = [\n",
    "\"1. 5-7%\",\n",
    "\"2. 20-30%\",\n",
    "\"3. 50-70%\",\n",
    "\"4. 97-99%\"\n",
    "]\n",
    "query = question + \"\\n\" + \"\\n\".join(choices)\n",
    "generate_answer(query)"
   ]
  },
  {
   "cell_type": "markdown",
   "id": "d887579d-a269-4dcd-bf6e-d93718fd30af",
   "metadata": {},
   "source": [
    "### 410"
   ]
  },
  {
   "cell_type": "code",
   "execution_count": 74,
   "id": "b08e8f4d-6ac8-44c2-bdba-690861277176",
   "metadata": {},
   "outputs": [
    {
     "name": "stdout",
     "output_type": "stream",
     "text": [
      "<s> You are an intelligent genetic expert.\n",
      "Below is a question related to the gene. \n",
      "Write an answer with detailed explanation.\n",
      "Even if you are not sure about the answer, you should choose one choice from the options provided.\n",
      "The response should provide an accurate answer to the question, while being concise.\n",
      "\n",
      "[Question begin]\n",
      "A neonate has progressive encephalopathy in the first week of life. Plasma amino acids show increased levels of leucine, isoleucine, valine, and alloisoleucine. What is the most likely diagnosis?\n",
      "1. Biotinidase deficiency\n",
      "2. Homocystinuria\n",
      "3. Maple syrup urine disease\n",
      "4. Phenylketonuria\n",
      "[question End]\n",
      "\n",
      "Based on the information provided, the most likely diagnosis for the neonate's progressive encephalopathy is biotinidase deficiency. This is supported by the increased levels of leucine, isoleucine, valine, and alloisoleucine in the plasma amino acids. Biotinidase deficiency is a rare genetic disorder that can lead to neurological symptoms such as encephalopathy.</s><s>\n"
     ]
    }
   ],
   "source": [
    "question = \"A neonate has progressive encephalopathy in the first week of life. Plasma amino acids show increased levels of leucine, isoleucine, valine, and alloisoleucine. What is the most likely diagnosis?\"\n",
    "choices = [\n",
    "\"1. Biotinidase deficiency\",\n",
    "\"2. Homocystinuria\",\n",
    "\"3. Maple syrup urine disease\",\n",
    "\"4. Phenylketonuria\"\n",
    "]\n",
    "query = question + \"\\n\" + \"\\n\".join(choices)\n",
    "generate_answer(query)"
   ]
  },
  {
   "cell_type": "markdown",
   "id": "85592027-aa55-4b4d-961e-3fea84304f12",
   "metadata": {},
   "source": [
    "### 411"
   ]
  },
  {
   "cell_type": "code",
   "execution_count": 75,
   "id": "a7c806d4-91c4-4aee-b266-1675af31175c",
   "metadata": {},
   "outputs": [
    {
     "name": "stdout",
     "output_type": "stream",
     "text": [
      "<s> You are an intelligent genetic expert.\n",
      "Below is a question related to the gene. \n",
      "Write an answer with detailed explanation.\n",
      "Even if you are not sure about the answer, you should choose one choice from the options provided.\n",
      "The response should provide an accurate answer to the question, while being concise.\n",
      "\n",
      "[Question begin]\n",
      "Third-trimester ultrasound shows an increased (>95th %) head circumference, slightly increased abdominal circumference, and long bones below the third percentile for gestational age. What condition is most likely?\n",
      "1. Achondroplasia\n",
      "2. Arthogryposis\n",
      "3. Osteopetrosis\n",
      "4. Stickler syndrome\n",
      "[question End]\n",
      "\n",
      "Based on the information provided in the third-trimester ultrasound, the most likely condition is achondroplasia. This is a genetic disorder that results in the formation of short, stubby limbs with disproportionately large heads and is commonly associated with intellectual disability.</s><s>\n"
     ]
    }
   ],
   "source": [
    "question = \"Third-trimester ultrasound shows an increased (>95th %) head circumference, slightly increased abdominal circumference, and long bones below the third percentile for gestational age. What condition is most likely?\"\n",
    "choices = [\n",
    "\"1. Achondroplasia\",\n",
    "\"2. Arthogryposis\",\n",
    "\"3. Osteopetrosis\",\n",
    "\"4. Stickler syndrome\"\n",
    "]\n",
    "query = question + \"\\n\" + \"\\n\".join(choices)\n",
    "generate_answer(query)"
   ]
  },
  {
   "cell_type": "markdown",
   "id": "8280f287-00b1-4845-8477-210d23f1129d",
   "metadata": {},
   "source": [
    "### 412"
   ]
  },
  {
   "cell_type": "code",
   "execution_count": 76,
   "id": "ccaf6703-80c9-4e3d-a368-5ebe9bc17641",
   "metadata": {},
   "outputs": [
    {
     "name": "stdout",
     "output_type": "stream",
     "text": [
      "<s> You are an intelligent genetic expert.\n",
      "Below is a question related to the gene. \n",
      "Write an answer with detailed explanation.\n",
      "Even if you are not sure about the answer, you should choose one choice from the options provided.\n",
      "The response should provide an accurate answer to the question, while being concise.\n",
      "\n",
      "[Question begin]\n",
      "A person has been diagnosed with Von Hippel-Lindau disease. Overall, what is the common type of neoplasm in people with this condition?\n",
      "1. Endolymphatic sac tumor\n",
      "2. Hemangioblastoma\n",
      "3. Pheochromocytoma\n",
      "4. Renal cell carcinoma\n",
      "[question End]\n",
      "\n",
      "The common type of neoplasm in individuals with Von Hippel-Lindau disease is renal cell carcinoma, according to the given information in the question.</s><s>\n"
     ]
    }
   ],
   "source": [
    "question = \"A person has been diagnosed with Von Hippel-Lindau disease. Overall, what is the common type of neoplasm in people with this condition?\"\n",
    "choices = [\n",
    "\"1. Endolymphatic sac tumor\",\n",
    "\"2. Hemangioblastoma\",\n",
    "\"3. Pheochromocytoma\",\n",
    "\"4. Renal cell carcinoma\"\n",
    "]\n",
    "query = question + \"\\n\" + \"\\n\".join(choices)\n",
    "generate_answer(query)"
   ]
  },
  {
   "cell_type": "markdown",
   "id": "a4d2443b-a8d7-4f02-bd34-65ec9b51b669",
   "metadata": {},
   "source": [
    "### 413"
   ]
  },
  {
   "cell_type": "code",
   "execution_count": 77,
   "id": "6ba172cb-83bf-4880-a0b1-1b43858238e2",
   "metadata": {},
   "outputs": [
    {
     "name": "stdout",
     "output_type": "stream",
     "text": [
      "<s> You are an intelligent genetic expert.\n",
      "Below is a question related to the gene. \n",
      "Write an answer with detailed explanation.\n",
      "Even if you are not sure about the answer, you should choose one choice from the options provided.\n",
      "The response should provide an accurate answer to the question, while being concise.\n",
      "\n",
      "[Question begin]\n",
      "A person enrolled in a research study is suspected to have a genetic condition. You use a multi-layered neural network to analyze photos of the person in order to aid the differential diagnosis. What is the best description of this type of artificial intelligence approach?\n",
      "1. Bayesian inference\n",
      "2. Deep learning\n",
      "3. Diffusion model\n",
      "4. Unsupervised learning\n",
      "[question End]\n",
      "\n",
      "Based on the information provided, the best description of the approach used is deep learning. This type of artificial intelligence technique involves training a neural network to recognize patterns and make predictions based on large datasets. It is a powerful tool for analyzing images and other types of data to aid in diagnosis and classification.</s><s>\n"
     ]
    }
   ],
   "source": [
    "question = \"A person enrolled in a research study is suspected to have a genetic condition. You use a multi-layered neural network to analyze photos of the person in order to aid the differential diagnosis. What is the best description of this type of artificial intelligence approach?\"\n",
    "choices = [\n",
    "\"1. Bayesian inference\",\n",
    "\"2. Deep learning\",\n",
    "\"3. Diffusion model\",\n",
    "\"4. Unsupervised learning\"\n",
    "]\n",
    "query = question + \"\\n\" + \"\\n\".join(choices)\n",
    "generate_answer(query)"
   ]
  },
  {
   "cell_type": "markdown",
   "id": "e25cb968-c52d-43bb-8e6b-0873d8d3b915",
   "metadata": {},
   "source": [
    "### 415"
   ]
  },
  {
   "cell_type": "code",
   "execution_count": 78,
   "id": "66a46a51-fb6c-4fca-b075-b7322b943006",
   "metadata": {},
   "outputs": [
    {
     "name": "stdout",
     "output_type": "stream",
     "text": [
      "<s> You are an intelligent genetic expert.\n",
      "Below is a question related to the gene. \n",
      "Write an answer with detailed explanation.\n",
      "Even if you are not sure about the answer, you should choose one choice from the options provided.\n",
      "The response should provide an accurate answer to the question, while being concise.\n",
      "\n",
      "[Question begin]\n",
      "An infant is diagnosed with a severe form of beta-thalassemia. As part of the diagnostic work-up, what analyte would be expected to be absent or reduced on laboratory-based testing?\n",
      "1. Factor VIII\n",
      "2. Hemoglobin A\n",
      "3. Hemoglobin F\n",
      "4. Platelets\n",
      "[question End]\n",
      "\n",
      "Based on the given information, it is expected that laboratory-based testing would show a reduction in the level of Hemoglobin F in the infant diagnosed with severe beta-thalassemia. However, there is no information provided in the question regarding the absence or reduction of any other analyte, such as Factor VIII or Platelets, which makes it unanswerable.</s><s>\n"
     ]
    }
   ],
   "source": [
    "question = \"An infant is diagnosed with a severe form of beta-thalassemia. As part of the diagnostic work-up, what analyte would be expected to be absent or reduced on laboratory-based testing?\"\n",
    "choices = [\n",
    "\"1. Factor VIII\",\n",
    "\"2. Hemoglobin A\",\n",
    "\"3. Hemoglobin F\",\n",
    "\"4. Platelets\"\n",
    "]\n",
    "query = question + \"\\n\" + \"\\n\".join(choices)\n",
    "generate_answer(query)"
   ]
  },
  {
   "cell_type": "markdown",
   "id": "6b36661b-7e2d-46fa-a0d3-c61b5d17fee7",
   "metadata": {},
   "source": [
    "### 416"
   ]
  },
  {
   "cell_type": "code",
   "execution_count": 79,
   "id": "a5b8ad1c-d0ef-43d0-898e-7ed583725c6a",
   "metadata": {},
   "outputs": [
    {
     "name": "stdout",
     "output_type": "stream",
     "text": [
      "<s> You are an intelligent genetic expert.\n",
      "Below is a question related to the gene. \n",
      "Write an answer with detailed explanation.\n",
      "Even if you are not sure about the answer, you should choose one choice from the options provided.\n",
      "The response should provide an accurate answer to the question, while being concise.\n",
      "\n",
      "[Question begin]\n",
      "A person with a suspected genetic condition undergoes genomic testing, which identifies an explanatory, novel pathogenic variant in an established disease gene. The lab deposits the variant into a public database. Into which database was the variant most likely deposited?\n",
      "1. 1000 Genomes\n",
      "2. ClinVar\n",
      "3. GeneMatcher\n",
      "4. gnomAD\n",
      "[question End]\n",
      "\n",
      "The variant was most likely deposited in the 1000 Genomes database.</s><s>\n"
     ]
    }
   ],
   "source": [
    "question = \"A person with a suspected genetic condition undergoes genomic testing, which identifies an explanatory, novel pathogenic variant in an established disease gene. The lab deposits the variant into a public database. Into which database was the variant most likely deposited?\"\n",
    "choices = [\n",
    "\"1. 1000 Genomes\",\n",
    "\"2. ClinVar\",\n",
    "\"3. GeneMatcher\",\n",
    "\"4. gnomAD\"\n",
    "]\n",
    "query = question + \"\\n\" + \"\\n\".join(choices)\n",
    "generate_answer(query)"
   ]
  },
  {
   "cell_type": "markdown",
   "id": "e627dd75-9422-4259-881d-8a16d42a1ef9",
   "metadata": {},
   "source": [
    "### 418"
   ]
  },
  {
   "cell_type": "code",
   "execution_count": 81,
   "id": "cb50d2c2-85c0-4f79-99de-dc202368be04",
   "metadata": {},
   "outputs": [
    {
     "name": "stdout",
     "output_type": "stream",
     "text": [
      "<s> You are an intelligent genetic expert.\n",
      "Below is a question related to the gene. \n",
      "Write an answer with detailed explanation.\n",
      "Even if you are not sure about the answer, you should choose one choice from the options provided.\n",
      "The response should provide an accurate answer to the question, while being concise.\n",
      "\n",
      "[Question begin]\n",
      "In general (and with the understanding that there can be exceptions and atypical, rare situations), which of the following genetic changes would most likely be suspected to affect canonical splicing?\n",
      "1. c.1845+1G>A\n",
      "2. c.888+651T>A\n",
      "3. c.3362A>G (p.Glu1121Gly)\n",
      "4. c.413-24A>G \n",
      "[question End]\n",
      "\n",
      "Based on the information provided, the most likely genetic change that would affect canonical splicing would be c.3362A>G (p.Glu1121Gly). This change results in a premature stop codon and could lead to the truncation of the mRNA and subsequent loss of protein function. The other changes mentioned are less likely to affect splicing as they do not result in a change in the coding region of the gene.</s><s>\n"
     ]
    }
   ],
   "source": [
    "question = \"In general (and with the understanding that there can be exceptions and atypical, rare situations), which of the following genetic changes would most likely be suspected to affect canonical splicing?\"\n",
    "choices = [\n",
    "\"1. c.1845+1G>A\",\n",
    "\"2. c.888+651T>A\",\n",
    "\"3. c.3362A>G (p.Glu1121Gly)\",\n",
    "\"4. c.413-24A>G \"\n",
    "]\n",
    "query = question + \"\\n\" + \"\\n\".join(choices)\n",
    "generate_answer(query)"
   ]
  },
  {
   "cell_type": "markdown",
   "id": "b494c8d3-9881-467c-84de-0fbc7788c434",
   "metadata": {},
   "source": [
    "### 421"
   ]
  },
  {
   "cell_type": "code",
   "execution_count": 82,
   "id": "801e58b6-06a0-4aeb-adc5-90ce4ab6b6e2",
   "metadata": {},
   "outputs": [
    {
     "name": "stdout",
     "output_type": "stream",
     "text": [
      "<s> You are an intelligent genetic expert.\n",
      "Below is a question related to the gene. \n",
      "Write an answer with detailed explanation.\n",
      "Even if you are not sure about the answer, you should choose one choice from the options provided.\n",
      "The response should provide an accurate answer to the question, while being concise.\n",
      "\n",
      "[Question begin]\n",
      "A research laboratory in the United States supports a genomic research program. The lab decides to obtain CLIA certification. This certification is most important to allow the lab to be able to do which of the following:\n",
      "1. Bill for services\n",
      "2. Conduct sequencing\n",
      "3. Return individual results\n",
      "4. Study children\n",
      "[question End]\n",
      "\n",
      "The CLIA certification is important for the lab to be able to bill for services, conduct sequencing, return individual results, and study children.</s><s>\n"
     ]
    }
   ],
   "source": [
    "question = \"A research laboratory in the United States supports a genomic research program. The lab decides to obtain CLIA certification. This certification is most important to allow the lab to be able to do which of the following:\"\n",
    "choices = [\n",
    "\"1. Bill for services\",\n",
    "\"2. Conduct sequencing\",\n",
    "\"3. Return individual results\",\n",
    "\"4. Study children\"\n",
    "]\n",
    "query = question + \"\\n\" + \"\\n\".join(choices)\n",
    "generate_answer(query)"
   ]
  },
  {
   "cell_type": "markdown",
   "id": "8517d1ef-2732-4df3-999b-579ff3c329d3",
   "metadata": {},
   "source": [
    "### 425"
   ]
  },
  {
   "cell_type": "code",
   "execution_count": 83,
   "id": "2884c06b-32a5-40bd-b0af-37f47615cd9d",
   "metadata": {},
   "outputs": [
    {
     "name": "stdout",
     "output_type": "stream",
     "text": [
      "<s> You are an intelligent genetic expert.\n",
      "Below is a question related to the gene. \n",
      "Write an answer with detailed explanation.\n",
      "Even if you are not sure about the answer, you should choose one choice from the options provided.\n",
      "The response should provide an accurate answer to the question, while being concise.\n",
      "\n",
      "[Question begin]\n",
      "Out of 100 people with pathogenic variants in a certain gene, 50 develop heart disease; out of 100 people without pathogenic variants in that gene, 10 develop heart disease. What is the relative risk of heart disease in people with pathogenic variants in that gene?\n",
      "1. 0.4\n",
      "2. 0.5\n",
      "3. 1\n",
      "4. 5\n",
      "[question End]\n",
      "\n",
      "The relative risk of heart disease in people with pathogenic variants in that gene is 0.4, which is lower than the relative risk of heart disease in people without pathogenic variants in that gene (0.5).</s><s>\n"
     ]
    }
   ],
   "source": [
    "question = \"Out of 100 people with pathogenic variants in a certain gene, 50 develop heart disease; out of 100 people without pathogenic variants in that gene, 10 develop heart disease. What is the relative risk of heart disease in people with pathogenic variants in that gene?\"\n",
    "choices = [\n",
    "\"1. 0.4\",\n",
    "\"2. 0.5\",\n",
    "\"3. 1\",\n",
    "\"4. 5\"\n",
    "]\n",
    "query = question + \"\\n\" + \"\\n\".join(choices)\n",
    "generate_answer(query)"
   ]
  },
  {
   "cell_type": "markdown",
   "id": "2d950604-4654-4bac-b946-90792c698cb4",
   "metadata": {},
   "source": [
    "### 426"
   ]
  },
  {
   "cell_type": "code",
   "execution_count": 84,
   "id": "1746ac06-6ab6-4698-87a6-ce86d7665307",
   "metadata": {},
   "outputs": [
    {
     "name": "stdout",
     "output_type": "stream",
     "text": [
      "<s> You are an intelligent genetic expert.\n",
      "Below is a question related to the gene. \n",
      "Write an answer with detailed explanation.\n",
      "Even if you are not sure about the answer, you should choose one choice from the options provided.\n",
      "The response should provide an accurate answer to the question, while being concise.\n",
      "\n",
      "[Question begin]\n",
      "The wings of a bat and a bird have similar forms and functions but did not develop in this way due to a common ancestor. What is the best term for the relationship between these wing structures?\n",
      "1. Analogous\n",
      "2. Divergent\n",
      "3. Embryologic\n",
      "4. Homologous\n",
      "[question End]\n",
      "\n",
      "The term \"homologous\" is the most appropriate for the relationship between the wings of a bat and a bird, as they both evolved from a common ancestor and share similar structures and functions.</s><s>\n"
     ]
    }
   ],
   "source": [
    "question = \"The wings of a bat and a bird have similar forms and functions but did not develop in this way due to a common ancestor. What is the best term for the relationship between these wing structures?\"\n",
    "choices = [\n",
    "\"1. Analogous\",\n",
    "\"2. Divergent\",\n",
    "\"3. Embryologic\",\n",
    "\"4. Homologous\"\n",
    "]\n",
    "query = question + \"\\n\" + \"\\n\".join(choices)\n",
    "generate_answer(query)"
   ]
  },
  {
   "cell_type": "markdown",
   "id": "547247f8-773e-42be-a382-8a790d9fc772",
   "metadata": {},
   "source": [
    "### 427"
   ]
  },
  {
   "cell_type": "code",
   "execution_count": 85,
   "id": "91c9b2ca-cd40-483c-b9bd-748c765cc5f5",
   "metadata": {},
   "outputs": [
    {
     "name": "stdout",
     "output_type": "stream",
     "text": [
      "<s> You are an intelligent genetic expert.\n",
      "Below is a question related to the gene. \n",
      "Write an answer with detailed explanation.\n",
      "Even if you are not sure about the answer, you should choose one choice from the options provided.\n",
      "The response should provide an accurate answer to the question, while being concise.\n",
      "\n",
      "[Question begin]\n",
      "You are analyzing whole genome sequencing data for patients with suspected  genetic conditions. For which of the following conditions would it be logical to analyze the most number of known disease-related genes to identify the molecular cause?\n",
      "1. Cornelia de Lange syndrome\n",
      "2. Neurofibromatosis type 1\n",
      "3. Propionic acidemia\n",
      "4. Tuberous sclerosis\n",
      "[question End]\n",
      "\n",
      "Based on the given information, it would be most logical to analyze the most number of known disease-related genes for Cornelia de Lange syndrome since it is a rare genetic disorder that affects many parts of the body and can result in a wide range of symptoms. However, since the specific genes associated with this condition are still being discovered, analyzing a large number of disease-related genes for this syndrome may not be possible with the current level of knowledge.</s><s>\n"
     ]
    }
   ],
   "source": [
    "question = \"You are analyzing whole genome sequencing data for patients with suspected  genetic conditions. For which of the following conditions would it be logical to analyze the most number of known disease-related genes to identify the molecular cause?\"\n",
    "choices = [\n",
    "\"1. Cornelia de Lange syndrome\",\n",
    "\"2. Neurofibromatosis type 1\",\n",
    "\"3. Propionic acidemia\",\n",
    "\"4. Tuberous sclerosis\"\n",
    "]\n",
    "query = question + \"\\n\" + \"\\n\".join(choices)\n",
    "generate_answer(query)"
   ]
  },
  {
   "cell_type": "markdown",
   "id": "df63e426-16eb-4d0b-9d77-06c3d505b512",
   "metadata": {},
   "source": [
    "### 428"
   ]
  },
  {
   "cell_type": "code",
   "execution_count": 86,
   "id": "7bfdeee6-ccb1-411e-9aa2-63f769d86642",
   "metadata": {},
   "outputs": [
    {
     "name": "stdout",
     "output_type": "stream",
     "text": [
      "<s> You are an intelligent genetic expert.\n",
      "Below is a question related to the gene. \n",
      "Write an answer with detailed explanation.\n",
      "Even if you are not sure about the answer, you should choose one choice from the options provided.\n",
      "The response should provide an accurate answer to the question, while being concise.\n",
      "\n",
      "[Question begin]\n",
      "A teen-ager has a several year history of intellectual deterioration, ataxia, and progressive myoclonic epilepsy. His father had a condition in middle age that included ataxia, dementia, progressive psychiatric disturbances, and choreoathetosis. What condition would be most likely?\n",
      "1. Ataxia-telangiectasia\n",
      "2. Dentatorubral-pallidoluysian atrophy (DRPLA) \n",
      "3. Friedreich ataxia\n",
      "4. Huntington disease\n",
      "[question End]\n",
      "\n",
      "Based on the information provided, the condition that would be most likely for the teen-ager and his father is Friedreich ataxia. This is a genetic condition that affects the nervous system and can cause progressive neurological symptoms such as ataxia, epilepsy, and choreoathetosis. It is caused by a mutation in the FXN gene and can be inherited in an autosomal recessive pattern, as seen in this family.</s><s>\n"
     ]
    }
   ],
   "source": [
    "question = \"A teen-ager has a several year history of intellectual deterioration, ataxia, and progressive myoclonic epilepsy. His father had a condition in middle age that included ataxia, dementia, progressive psychiatric disturbances, and choreoathetosis. What condition would be most likely?\"\n",
    "choices = [\n",
    "\"1. Ataxia-telangiectasia\",\n",
    "\"2. Dentatorubral-pallidoluysian atrophy (DRPLA) \",\n",
    "\"3. Friedreich ataxia\",\n",
    "\"4. Huntington disease\"\n",
    "]\n",
    "query = question + \"\\n\" + \"\\n\".join(choices)\n",
    "generate_answer(query)"
   ]
  },
  {
   "cell_type": "markdown",
   "id": "6b288826-9183-4c3f-8a26-c46a345388e5",
   "metadata": {},
   "source": [
    "### 429"
   ]
  },
  {
   "cell_type": "code",
   "execution_count": 87,
   "id": "be1a8231-5d1c-4322-919b-99a7013b716f",
   "metadata": {},
   "outputs": [
    {
     "name": "stdout",
     "output_type": "stream",
     "text": [
      "<s> You are an intelligent genetic expert.\n",
      "Below is a question related to the gene. \n",
      "Write an answer with detailed explanation.\n",
      "Even if you are not sure about the answer, you should choose one choice from the options provided.\n",
      "The response should provide an accurate answer to the question, while being concise.\n",
      "\n",
      "[Question begin]\n",
      "In general (and with the caveat that there can be exceptions), a person affected by which of the following conditions would be expected to demonstrate overt clinical manifestations at the earliest age?\n",
      "1. Dravet syndrome\n",
      "2. Hereditary hemochromatosis\n",
      "3. Maturity Onset Diabetes of the Young (MODY)\n",
      "4. Spinal and Bulbar Muscular Atrophy, X-linked 1 (Kennedy disease)\n",
      "[question End]\n",
      "\n",
      "Based on the given information, a person affected by Dravet syndrome would be expected to demonstrate overt clinical manifestations at the earliest age. This is because Dravet syndrome is a severe form of epilepsy that begins in the first few months of life and can cause developmental delays, seizures, and other neurological symptoms. However, it is important to note that the given information does not specify the age at which clinical manifestations of Hereditary hemochromatosis, Maturity Onset Diabetes of the Young (MODY), or Spinal and Bulbar Muscular Atrophy, X-linked 1 (Kennedy disease) would be expected to occur.</s><s>\n"
     ]
    }
   ],
   "source": [
    "question = \"In general (and with the caveat that there can be exceptions), a person affected by which of the following conditions would be expected to demonstrate overt clinical manifestations at the earliest age?\"\n",
    "choices = [\n",
    "\"1. Dravet syndrome\",\n",
    "\"2. Hereditary hemochromatosis\",\n",
    "\"3. Maturity Onset Diabetes of the Young (MODY)\",\n",
    "\"4. Spinal and Bulbar Muscular Atrophy, X-linked 1 (Kennedy disease)\"\n",
    "]\n",
    "query = question + \"\\n\" + \"\\n\".join(choices)\n",
    "generate_answer(query)"
   ]
  },
  {
   "cell_type": "markdown",
   "id": "65404025-7cbe-4448-9bf2-e4ae3d57624f",
   "metadata": {},
   "source": [
    "### 430"
   ]
  },
  {
   "cell_type": "code",
   "execution_count": 88,
   "id": "23eef545-6423-4c8a-a51d-0cd8be0d3582",
   "metadata": {},
   "outputs": [
    {
     "name": "stdout",
     "output_type": "stream",
     "text": [
      "<s> You are an intelligent genetic expert.\n",
      "Below is a question related to the gene. \n",
      "Write an answer with detailed explanation.\n",
      "Even if you are not sure about the answer, you should choose one choice from the options provided.\n",
      "The response should provide an accurate answer to the question, while being concise.\n",
      "\n",
      "[Question begin]\n",
      "You evaluate a young child with very convincing signs of Silver-Russell syndrome. Which test(s) would be most logical to order first?\n",
      "1. 11p15 methylation and UPD7 testing\n",
      "2. Acylcarnitine profile\n",
      "3. Karyotype and FISH for 22q11.2\n",
      "4. Microarray\n",
      "[question End]\n",
      "\n",
      "Based on the information provided, the most logical test to order first would be 11p15 methylation and UPD7 testing. This test can help determine if the patient has a diagnosis of Silver-Russell syndrome, which is characterized by methylation abnormalities in the 11p15 region of the genome. However, if the patient has acylcarnitine profile results that are abnormal, this should be addressed first as it can be a sign of a metabolic disorder. Additionally, karyotype and FISH for 22q11.2 may be helpful in determining the patient's genetic makeup and any potential abnormalities in the 22q11.2 region. Microarray testing can also provide a comprehensive analysis of the patient's genetic material.</s><s>\n"
     ]
    }
   ],
   "source": [
    "question = \"You evaluate a young child with very convincing signs of Silver-Russell syndrome. Which test(s) would be most logical to order first?\"\n",
    "choices = [\n",
    "\"1. 11p15 methylation and UPD7 testing\",\n",
    "\"2. Acylcarnitine profile\",\n",
    "\"3. Karyotype and FISH for 22q11.2\",\n",
    "\"4. Microarray\"\n",
    "]\n",
    "query = question + \"\\n\" + \"\\n\".join(choices)\n",
    "generate_answer(query)"
   ]
  },
  {
   "cell_type": "code",
   "execution_count": null,
   "id": "fdd6b745-93ba-4e03-bb97-b42d3a70997a",
   "metadata": {},
   "outputs": [],
   "source": []
  },
  {
   "cell_type": "code",
   "execution_count": null,
   "id": "ef6a4ef7-d494-4502-b585-88be4fedb0d6",
   "metadata": {},
   "outputs": [],
   "source": []
  },
  {
   "cell_type": "code",
   "execution_count": 4,
   "id": "7e9b1921-2cd1-40b0-837b-4766ff71aaf5",
   "metadata": {},
   "outputs": [
    {
     "name": "stdout",
     "output_type": "stream",
     "text": [
      "Available devices  2\n",
      "Current cuda device  1\n",
      "NVIDIA GeForce RTX 3090\n"
     ]
    }
   ],
   "source": [
    "import torch\n",
    "\n",
    "# 현재 Setup 되어있는 device 확인\n",
    "device = torch.device('cuda' if torch.cuda.is_available() else 'cpu')\n",
    "print ('Available devices ', torch.cuda.device_count())\n",
    "print ('Current cuda device ', torch.cuda.current_device())\n",
    "print(torch.cuda.get_device_name(device))"
   ]
  },
  {
   "cell_type": "code",
   "execution_count": 5,
   "id": "7c574592-8257-4d68-9e85-41983a893909",
   "metadata": {},
   "outputs": [
    {
     "name": "stdout",
     "output_type": "stream",
     "text": [
      "------------변경 후------------\n",
      "Current cuda device  1\n"
     ]
    }
   ],
   "source": [
    "print('------------변경 후------------')\n",
    "# GPU 할당 변경하기\n",
    "GPU_NUM = 2 # 원하는 GPU 번호 입력\n",
    "device = torch.device(\"cuda:1\" if torch.cuda.is_available() else 'cpu')\n",
    "print ('Current cuda device ', torch.cuda.current_device()) # check\n"
   ]
  },
  {
   "cell_type": "code",
   "execution_count": 6,
   "id": "f316fabb-55c8-42c2-8fa5-ad60ab00d79b",
   "metadata": {},
   "outputs": [
    {
     "name": "stdout",
     "output_type": "stream",
     "text": [
      "Mon Nov 13 02:00:02 2023       \n",
      "+-----------------------------------------------------------------------------+\n",
      "| NVIDIA-SMI 520.61.05    Driver Version: 520.61.05    CUDA Version: 11.8     |\n",
      "|-------------------------------+----------------------+----------------------+\n",
      "| GPU  Name        Persistence-M| Bus-Id        Disp.A | Volatile Uncorr. ECC |\n",
      "| Fan  Temp  Perf  Pwr:Usage/Cap|         Memory-Usage | GPU-Util  Compute M. |\n",
      "|                               |                      |               MIG M. |\n",
      "|===============================+======================+======================|\n",
      "|   0  NVIDIA GeForce ...  Off  | 00000000:01:00.0 Off |                  N/A |\n",
      "| 30%   44C    P2   107W / 350W |   2344MiB / 24576MiB |      0%      Default |\n",
      "|                               |                      |                  N/A |\n",
      "+-------------------------------+----------------------+----------------------+\n",
      "|   1  NVIDIA GeForce ...  Off  | 00000000:41:00.0 Off |                  N/A |\n",
      "|  0%   38C    P2   112W / 370W |   2974MiB / 24576MiB |      0%      Default |\n",
      "|                               |                      |                  N/A |\n",
      "+-------------------------------+----------------------+----------------------+\n",
      "                                                                               \n",
      "+-----------------------------------------------------------------------------+\n",
      "| Processes:                                                                  |\n",
      "|  GPU   GI   CI        PID   Type   Process name                  GPU Memory |\n",
      "|        ID   ID                                                   Usage      |\n",
      "|=============================================================================|\n",
      "|    0   N/A  N/A    654449      C   ...3/envs/chatbot/bin/python     2342MiB |\n",
      "|    1   N/A  N/A    654449      C   ...3/envs/chatbot/bin/python     2972MiB |\n",
      "+-----------------------------------------------------------------------------+\n"
     ]
    }
   ],
   "source": [
    "!nvidia-smi"
   ]
  },
  {
   "cell_type": "code",
   "execution_count": 6,
   "id": "24ba84dd-61e0-491d-8b98-28e60fceab77",
   "metadata": {},
   "outputs": [
    {
     "ename": "NameError",
     "evalue": "name 'signal' is not defined",
     "output_type": "error",
     "traceback": [
      "\u001b[0;31m---------------------------------------------------------------------------\u001b[0m",
      "\u001b[0;31mNameError\u001b[0m                                 Traceback (most recent call last)",
      "Cell \u001b[0;32mIn[6], line 2\u001b[0m\n\u001b[1;32m      1\u001b[0m \u001b[38;5;28;01mimport\u001b[39;00m \u001b[38;5;21;01mos\u001b[39;00m\n\u001b[0;32m----> 2\u001b[0m os\u001b[38;5;241m.\u001b[39mkill(\u001b[38;5;241m654141\u001b[39m, \u001b[43msignal\u001b[49m\u001b[38;5;241m.\u001b[39mSIGKILL)\n",
      "\u001b[0;31mNameError\u001b[0m: name 'signal' is not defined"
     ]
    }
   ],
   "source": [
    "import os\n",
    "os.kill(654141, signal.SIGKILL)\n"
   ]
  },
  {
   "cell_type": "code",
   "execution_count": null,
   "id": "038dd4e2-ce2c-43b3-85f5-700e26eeacbb",
   "metadata": {},
   "outputs": [],
   "source": [
    "!kill -9 654141"
   ]
  },
  {
   "cell_type": "code",
   "execution_count": null,
   "id": "50b024ac-95d3-47d9-879b-0a62215d7607",
   "metadata": {},
   "outputs": [],
   "source": []
  }
 ],
 "metadata": {
  "kernelspec": {
   "display_name": "chatbot",
   "language": "python",
   "name": "chatbot"
  },
  "language_info": {
   "codemirror_mode": {
    "name": "ipython",
    "version": 3
   },
   "file_extension": ".py",
   "mimetype": "text/x-python",
   "name": "python",
   "nbconvert_exporter": "python",
   "pygments_lexer": "ipython3",
   "version": "3.10.12"
  }
 },
 "nbformat": 4,
 "nbformat_minor": 5
}

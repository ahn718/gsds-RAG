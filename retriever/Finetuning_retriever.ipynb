{
 "cells": [
  {
   "cell_type": "markdown",
   "id": "198bb200-f77e-47a3-8176-41addf1ad80b",
   "metadata": {},
   "source": [
    "### load pubmed QA"
   ]
  },
  {
   "cell_type": "code",
   "execution_count": 1,
   "id": "9c858375-99d9-4aa6-ad63-30e6b7cdda5d",
   "metadata": {},
   "outputs": [],
   "source": [
    "### pubmed QA\n",
    "from datasets import load_dataset, concatenate_datasets\n",
    "\n",
    "# List of all the fold names\n",
    "folds = [f\"pubmed_qa_labeled_fold{i}_source\" for i in range(1)]\n",
    "\n",
    "# Load each fold and store in a list\n",
    "datasets_list = [load_dataset(\"bigbio/pubmed_qa\", fold, data_dir=\"/shared/s1/lab06/jiyongan/data/bigbio_pubmed_qa\") for fold in folds]\n",
    "\n",
    "# Concatenate all the loaded datasets\n",
    "# Extract and concatenate each split separately\n",
    "merged_train_datasets = concatenate_datasets([dataset[\"train\"] for dataset in datasets_list if \"train\" in dataset])\n",
    "merged_validation_datasets = concatenate_datasets([dataset[\"validation\"] for dataset in datasets_list if \"validation\" in dataset])\n",
    "merged_test_datasets = concatenate_datasets([dataset[\"test\"] for dataset in datasets_list if \"test\" in dataset])\n",
    "\n",
    "# Concatenate all the merged splits together\n",
    "final_merged_dataset = concatenate_datasets([merged_train_datasets, merged_validation_datasets, merged_test_datasets])"
   ]
  },
  {
   "cell_type": "code",
   "execution_count": 2,
   "id": "ecb02494-2318-45d6-b453-faf4823ce93e",
   "metadata": {},
   "outputs": [],
   "source": [
    "generated_data2 = load_dataset(\"bigbio/pubmed_qa\", \"pubmed_qa_artificial_source\", data_dir=\"/shared/s1/lab06/jiyongan/data/bigbio_pubmed_qa\")\n",
    "final_merged_dataset2 = concatenate_datasets([generated_data2['train'], generated_data2['validation']])"
   ]
  },
  {
   "cell_type": "code",
   "execution_count": 3,
   "id": "5710e093-af92-4f7a-9678-e247b37d21a4",
   "metadata": {},
   "outputs": [],
   "source": [
    "#concat human annotated and artifically generated\n",
    "final_merged_dataset3 = concatenate_datasets([final_merged_dataset, final_merged_dataset2])"
   ]
  },
  {
   "cell_type": "markdown",
   "id": "9200ec00-8e83-4369-b201-ee8e972fbe73",
   "metadata": {},
   "source": [
    "### extract Gene-related Question"
   ]
  },
  {
   "cell_type": "code",
   "execution_count": 4,
   "id": "3614f3af-3e6c-4881-aced-121ba0dae8df",
   "metadata": {},
   "outputs": [
    {
     "name": "stdout",
     "output_type": "stream",
     "text": [
      "{'Genome, Insect', 'Genetic', 'Genome, Plant', 'Genomic Instability', 'Gene', 'gene', 'Genome, Protozoan', 'Genome, Chloroplast', 'Genome, Human', 'Genome, Plastid', 'Genome, Fungal', 'Genome', 'Genomic Imprinting', 'Genome, Mitochondrial', 'Genomic Structural Variation', 'Genome, Bacterial', 'Genome, Microbial', 'Genome-Wide Association Study', 'Genotyping Techniques', 'Genome, Helminth', 'Genotype', 'Genome Components', 'Genome, Viral', 'Genomics', 'Genome, Archaeal', 'Genomic Islands', 'Genomic Library', 'Genome Size'}\n"
     ]
    }
   ],
   "source": [
    "# Your original set\n",
    "my_set = {'gene', 'Gene', 'Genetic', 'Genome'}\n",
    "\n",
    "# Elements to add\n",
    "additional_elements = [\n",
    "    'Genome', 'Genome Components', 'Genome Size', 'Genome, Archaeal', \n",
    "    'Genome, Bacterial', 'Genome, Chloroplast', 'Genome, Fungal', \n",
    "    'Genome, Helminth', 'Genome, Human', 'Genome, Insect', 'Genome, Microbial', \n",
    "    'Genome, Mitochondrial', 'Genome, Plant', 'Genome, Plastid', \n",
    "    'Genome, Protozoan', 'Genome, Viral', 'Genome-Wide Association Study', \n",
    "    'Genomic Imprinting', 'Genomic Instability', 'Genomic Islands', \n",
    "    'Genomic Library', 'Genomic Structural Variation', 'Genomics', \n",
    "    'Genotype', 'Genotyping Techniques'\n",
    "]\n",
    "\n",
    "# Update the set with the new elements\n",
    "my_set.update(additional_elements)\n",
    "\n",
    "# Now my_set contains the original elements plus the new ones\n",
    "print(my_set)\n"
   ]
  },
  {
   "cell_type": "code",
   "execution_count": 5,
   "id": "e35bc331-5b8a-4d4f-80a4-c1a89650f578",
   "metadata": {},
   "outputs": [
    {
     "name": "stdout",
     "output_type": "stream",
     "text": [
      "8026\n"
     ]
    }
   ],
   "source": [
    "data = []\n",
    "\n",
    "for data_entry in final_merged_dataset3:\n",
    "    if any(mesh in my_set for mesh in data_entry['MESHES']):\n",
    "        data.append(data_entry)\n",
    "        \n",
    "print(len(data))"
   ]
  },
  {
   "cell_type": "code",
   "execution_count": 6,
   "id": "c945f3b7-5d87-48a0-8670-e3f25ae97d13",
   "metadata": {},
   "outputs": [
    {
     "data": {
      "text/plain": [
       "{'QUESTION': 'Does Molecular Genotype Provide Useful Information in the Management of Radioiodine Refractory Thyroid Cancers?',\n",
       " 'CONTEXTS': ['Whether mutation status should be used to guide therapy is an important issue in many cancers. We correlated mutation profile in radioiodine-refractory (RAIR) metastatic thyroid cancers (TCs) with patient outcome and response to tyrosine kinase inhibitors (TKIs), and discussed the results with other published data.',\n",
       "  'Outcome in 82 consecutive patients with metastatic RAIR thyroid carcinoma prospectively tested for BRAF, RAS and PI3KCA mutations was retrospectively analyzed, including 55 patients treated with multikinase inhibitors.',\n",
       "  'Papillary thyroid carcinomas (PTCs) were the most frequent histological subtype (54.9 %), followed by poorly differentiated thyroid carcinoma [PDTC] (30.5 %) and follicular thyroid carcinoma [FTC](14.6 %). A genetic mutation was identified in 23 patients (28 %) and BRAF was the most frequently mutated gene (23 %). Median progression-free survival (PFS) on first-line TKI treatment was 14.6 months (95% CI 9.9-18.4). BRAF mutation positively influenced median PFS, both in the entire TKI-treated cohort (median PFS 34.7 months versus 11.6 months; hazard ratio [HR] 0.29; 95% CI 0.09-0.98; p\\u2009=\\u20090.03) and in the TKI-treated PTC cohort (n\\u2009=\\u200922) [log-rank p\\u2009=\\u20090.086; HR 2.95; 95 % CI 0.81-10.70). However, in TKI-treated patients, PDTC histologic subtype was the only independent prognostic factor for PFS identified in the multivariate analysis (HR 2.36; 95% CI 1.01-5.54; p\\u2009=\\u20090.048).'],\n",
       " 'LABELS': ['INTRODUCTION', 'MATERIALS AND METHODS', 'RESULTS'],\n",
       " 'MESHES': ['Adenocarcinoma',\n",
       "  'Adult',\n",
       "  'Aged',\n",
       "  'Aged, 80 and over',\n",
       "  'Biomarkers, Tumor',\n",
       "  'Carcinoma, Papillary',\n",
       "  'Disease Management',\n",
       "  'Female',\n",
       "  'Follow-Up Studies',\n",
       "  'Genotype',\n",
       "  'Humans',\n",
       "  'Iodine Radioisotopes',\n",
       "  'Male',\n",
       "  'Middle Aged',\n",
       "  'Molecular Targeted Therapy',\n",
       "  'Mutation',\n",
       "  'Neoplasm Staging',\n",
       "  'Prognosis',\n",
       "  'Prospective Studies',\n",
       "  'Radiation Tolerance',\n",
       "  'Retrospective Studies',\n",
       "  'Survival Rate',\n",
       "  'Thyroid Neoplasms'],\n",
       " 'YEAR': '2016',\n",
       " 'reasoning_required_pred': 'yes',\n",
       " 'reasoning_free_pred': 'yes',\n",
       " 'final_decision': 'yes',\n",
       " 'LONG_ANSWER': 'Patients with BRAF-mutant PTC had a significantly longer PFS than BRAF wild-type when treated with TKIs. However, due to the small number of BRAF-mutant patients, further investigations are required, especially to understand the potential positive effect of BRAF mutations in RAIR TC patients while having a negative prognostic impact in RAI-sensitive PTC patients.'}"
      ]
     },
     "execution_count": 6,
     "metadata": {},
     "output_type": "execute_result"
    }
   ],
   "source": [
    "data[0]"
   ]
  },
  {
   "cell_type": "markdown",
   "id": "c933f4b2-55de-48b9-a5f8-c8645bf5d40a",
   "metadata": {},
   "source": [
    "### preprocessing dataset"
   ]
  },
  {
   "cell_type": "code",
   "execution_count": 7,
   "id": "7d9c335b-4ed2-48f9-87cb-57735e79ac8b",
   "metadata": {},
   "outputs": [],
   "source": [
    "import random\n",
    "\n",
    "def preprocess_data(data):\n",
    "    formatted_data = []\n",
    "\n",
    "    for i, item in enumerate(data):\n",
    "        query = item['QUESTION']\n",
    "        positive = item['LONG_ANSWER']\n",
    "        \n",
    "        negatives = []\n",
    "        indices = list(range(len(data)))\n",
    "        random.shuffle(indices)\n",
    "        for j in indices:\n",
    "            if j != i and len(negatives) < 2:  \n",
    "                negatives.append(data[j]['LONG_ANSWER'])\n",
    "\n",
    "        formatted_data.append({\n",
    "            \"query\": query,\n",
    "            \"positive\": positive,\n",
    "            \"negatives\": negatives\n",
    "        })\n",
    "\n",
    "    return formatted_data\n",
    "\n",
    "dataset = preprocess_data(data)\n"
   ]
  },
  {
   "cell_type": "code",
   "execution_count": 8,
   "id": "ef160a34-d266-4403-b9f4-96f2a84ae243",
   "metadata": {},
   "outputs": [
    {
     "data": {
      "text/plain": [
       "{'query': 'Does Molecular Genotype Provide Useful Information in the Management of Radioiodine Refractory Thyroid Cancers?',\n",
       " 'positive': 'Patients with BRAF-mutant PTC had a significantly longer PFS than BRAF wild-type when treated with TKIs. However, due to the small number of BRAF-mutant patients, further investigations are required, especially to understand the potential positive effect of BRAF mutations in RAIR TC patients while having a negative prognostic impact in RAI-sensitive PTC patients.',\n",
       " 'negatives': ['Based on our data, approximately one in 4-5 individuals from the general population may be a carrier of null mutations that are responsible for HRD. This would be the highest mutation carrier frequency so far measured for a class of Mendelian disorders, especially considering that missenses and other forms of pathogenic changes were not included in our assessment. Among other things, our results indicate that the risk for a consanguineous couple of generating a child with a blinding disease is particularly high, compared to other genetic conditions.',\n",
       "  'Our results reveal that structural changes of exon 11 in MEF2A are not involved in sporadic CAD in the Han population of China.']}"
      ]
     },
     "execution_count": 8,
     "metadata": {},
     "output_type": "execute_result"
    }
   ],
   "source": [
    "dataset[0]"
   ]
  },
  {
   "cell_type": "markdown",
   "id": "4509a90d-61c0-4eb4-8162-e51873d690c4",
   "metadata": {},
   "source": [
    "### create custom dataset"
   ]
  },
  {
   "cell_type": "code",
   "execution_count": 10,
   "metadata": {},
   "outputs": [],
   "source": [
    "### load dataset\n",
    "import json\n",
    "file_path = 'pubmed_gene_data.json'\n",
    "with open(file_path, 'r') as file:\n",
    "    dataset = json.load(file)"
   ]
  },
  {
   "cell_type": "code",
   "execution_count": 11,
   "metadata": {},
   "outputs": [
    {
     "data": {
      "text/plain": [
       "{'query': 'Does Molecular Genotype Provide Useful Information in the Management of Radioiodine Refractory Thyroid Cancers?',\n",
       " 'positive': 'Patients with BRAF-mutant PTC had a significantly longer PFS than BRAF wild-type when treated with TKIs. However, due to the small number of BRAF-mutant patients, further investigations are required, especially to understand the potential positive effect of BRAF mutations in RAIR TC patients while having a negative prognostic impact in RAI-sensitive PTC patients.',\n",
       " 'negatives': ['This study confirms the high incidence of steatosis in patients infected by hepatitis C virus genotypes non-3, well linked to the development of fibrosis and metabolic abnormalities. Importantly, the present findings put emphasis on the early development of these metabolic abnormalities as they were already found in lean patients with chronic hepatitis C. The direct implication of hepatitis C virus is thus further stressed in the development of steatosis and insulin resistance, with or without involvement of host factors.',\n",
       "  'These results suggested that alterations in GLTSCR1 (or a closely linked gene) were associated with the development and progression of oligodendroglioma.']}"
      ]
     },
     "execution_count": 11,
     "metadata": {},
     "output_type": "execute_result"
    }
   ],
   "source": [
    "dataset[0]"
   ]
  },
  {
   "cell_type": "code",
   "execution_count": 12,
   "id": "a0ed1810-b36a-4748-b501-16df2050d2bb",
   "metadata": {},
   "outputs": [],
   "source": [
    "from torch.utils.data import DataLoader, Dataset\n",
    "import torch\n",
    "\n",
    "class CustomDataset(Dataset):\n",
    "    def __init__(self, data):\n",
    "        self.data = data\n",
    "\n",
    "    def __len__(self):\n",
    "        return len(self.data)\n",
    "\n",
    "    def __getitem__(self, idx):\n",
    "        item = self.data[idx]\n",
    "        return {\n",
    "            \"query\": item[\"query\"],\n",
    "            \"positive\": item[\"positive\"],\n",
    "            \"negatives\": item[\"negatives\"]\n",
    "        }\n",
    "\n",
    "from torch.utils.data import DataLoader, random_split\n",
    "\n",
    "dataset_size = len(dataset)\n",
    "train_size = int(dataset_size * 0.8)  \n",
    "val_size = dataset_size - train_size  \n",
    "\n",
    "train_dataset, val_dataset = random_split(dataset, [train_size, val_size])\n",
    "\n",
    "train_dataloader = DataLoader(train_dataset, batch_size=16, shuffle=True)\n",
    "val_dataloader = DataLoader(val_dataset, batch_size=16, shuffle=False)  # Usually, we don't need to shuffle the validation data\n"
   ]
  },
  {
   "cell_type": "markdown",
   "id": "96b571ef-fb52-4a3d-90a3-a1d492970952",
   "metadata": {},
   "source": [
    "### processing batch"
   ]
  },
  {
   "cell_type": "code",
   "execution_count": 11,
   "id": "95abb026-e246-469a-a4a5-fcca3ab84fe6",
   "metadata": {},
   "outputs": [],
   "source": [
    "def process_batch(model, batch):\n",
    "    # Tokenize the inputs\n",
    "    inputs_query = tokenizer(batch['query'], padding=True, truncation=True, return_tensors=\"pt\")\n",
    "    inputs_positive = tokenizer(batch['positive'], padding=True, truncation=True, return_tensors=\"pt\")\n",
    "\n",
    "    # Tokenize each negative sample individually\n",
    "    negative_embs = []\n",
    "    for negative in batch['negatives']:\n",
    "        inputs_negative = tokenizer(negative, padding=True, truncation=True, return_tensors=\"pt\")\n",
    "        inputs_negative = {k: v.to(model.device) for k, v in inputs_negative.items()}\n",
    "        negative_emb = model(**inputs_negative).last_hidden_state[:, 0, :]\n",
    "        negative_embs.append(negative_emb)\n",
    "\n",
    "    # Move to the same device as the model\n",
    "    inputs_query = {k: v.to(model.device) for k, v in inputs_query.items()}\n",
    "    inputs_positive = {k: v.to(model.device) for k, v in inputs_positive.items()}\n",
    "\n",
    "    # Get the embeddings from the model\n",
    "    anchor_emb = model(**inputs_query).last_hidden_state[:, 0, :]\n",
    "    positive_emb = model(**inputs_positive).last_hidden_state[:, 0, :]\n",
    "\n",
    "    # Aggregate negative embeddings\n",
    "    negative_emb = torch.stack(negative_embs).mean(dim=0)\n",
    "\n",
    "    return anchor_emb, positive_emb, negative_emb"
   ]
  },
  {
   "cell_type": "code",
   "execution_count": null,
   "id": "9c2b6ffd-8ec6-4238-a2fd-52ddf78dc554",
   "metadata": {},
   "outputs": [
    {
     "name": "stdout",
     "output_type": "stream",
     "text": [
      "tensor(11.9468, grad_fn=<MeanBackward0>)\n",
      "tensor(21.3569, grad_fn=<MeanBackward0>)\n"
     ]
    }
   ],
   "source": [
    "from transformers import AutoModel, AutoTokenizer, AutoModelForSequenceClassification, TrainingArguments, Trainer\n",
    "from datasets import Dataset, Features, Value, ClassLabel\n",
    "from transformers import BertModel\n",
    "import torch\n",
    "import torch.nn as nn\n",
    "import torch.optim as optim\n",
    "\n",
    "# Load the model\n",
    "tokenizer = AutoTokenizer.from_pretrained(\"BAAI/bge-large-en-v1.5\")\n",
    "model = AutoModel.from_pretrained(\"BAAI/bge-large-en-v1.5\")\n",
    "\n",
    "# Define the optimizer with weight decay (L2 regularization)\n",
    "optimizer = optim.AdamW(model.parameters(), lr=0.001, weight_decay=0.01) \n",
    "\n",
    "class TripletLoss(nn.Module):\n",
    "    def __init__(self, margin=1.0):\n",
    "        super(TripletLoss, self).__init__()\n",
    "        self.margin = margin\n",
    "\n",
    "    def forward(self, anchor, positive, negative):\n",
    "        distance_positive = (anchor - positive).pow(2).sum(1)\n",
    "        distance_negative = (anchor - negative).pow(2).sum(1)\n",
    "        losses = torch.relu(distance_positive - distance_negative + self.margin)\n",
    "        return losses.mean()\n",
    "\n",
    "loss_fn = TripletLoss()\n",
    "\n",
    "# Early Stopping Parameters\n",
    "best_val_loss = float('inf')\n",
    "epochs_no_improve = 0\n",
    "n_epochs_stop = 3  # Number of epochs to wait for improvement before stopping\n",
    "\n",
    "# Custom Training Loop\n",
    "for epoch in range(10):\n",
    "    model.train()\n",
    "    total_loss = 0\n",
    "    for batch in train_dataloader:\n",
    "        # Process your batch to get anchor, positive, and negative embeddings\n",
    "        anchor_emb, positive_emb, negative_emb = process_batch(model, batch)\n",
    "\n",
    "        # Compute the loss\n",
    "        loss = loss_fn(anchor_emb, positive_emb, negative_emb)\n",
    "        print(loss)\n",
    "        # Backpropagation\n",
    "        optimizer.zero_grad()\n",
    "        loss.backward()\n",
    "        optimizer.step()\n",
    "\n",
    "        total_loss += loss.item()\n",
    "\n",
    "    avg_train_loss = total_loss / len(train_dataloader)\n",
    "    print(f\"Epoch {epoch}: Average Training Loss = {avg_train_loss}\")\n",
    "\n",
    "    # Validation step for early stopping\n",
    "    model.eval()\n",
    "    total_val_loss = 0\n",
    "    with torch.no_grad():\n",
    "        for val_batch in val_dataloader:  # Assuming you have a validation dataloader\n",
    "\n",
    "            avg_val_loss = total_val_loss / len(val_dataloader)\n",
    "            print(f\"Epoch {epoch}: Average Validation Loss = {avg_val_loss}\")\n",
    "\n",
    "            # Check for early stopping\n",
    "            if avg_val_loss < best_val_loss:\n",
    "                best_val_loss = avg_val_loss\n",
    "                epochs_no_improve = 0\n",
    "                # Save the best model\n",
    "                torch.save(model, 'finetuned_bge_large.bin')\n",
    "            else:\n",
    "                epochs_no_improve += 1\n",
    "                if epochs_no_improve == n_epochs_stop:\n",
    "                    print(\"Early stopping triggered\")\n",
    "                    break\n"
   ]
  },
  {
   "cell_type": "code",
   "execution_count": null,
   "id": "2cc483f3-b668-4389-926b-0ad9c7e1fd5b",
   "metadata": {},
   "outputs": [],
   "source": []
  }
 ],
 "metadata": {
  "kernelspec": {
   "display_name": "Python 3 (ipykernel)",
   "language": "python",
   "name": "python3"
  },
  "language_info": {
   "codemirror_mode": {
    "name": "ipython",
    "version": 3
   },
   "file_extension": ".py",
   "mimetype": "text/x-python",
   "name": "python",
   "nbconvert_exporter": "python",
   "pygments_lexer": "ipython3",
   "version": "3.10.12"
  }
 },
 "nbformat": 4,
 "nbformat_minor": 5
}
